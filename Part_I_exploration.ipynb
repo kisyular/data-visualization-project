{
 "cells": [
  {
   "attachments": {},
   "cell_type": "markdown",
   "metadata": {},
   "source": [
    "# Part I - Ford Bike Dataset Exploration Title\n",
    "## By Rellika Kisyula"
   ]
  },
  {
   "attachments": {},
   "cell_type": "markdown",
   "metadata": {},
   "source": [
    "## Introduction\n",
    "The Ford GoBike dataset contains anonymized trip data for the bike-sharing system from June 2017 to April 2019. <p style=\"color:red\"> **However, I decided to only use the data in the year 2018 (January 2018 to December 2018).**</p> The data includes information on individual bike rides such as trip duration, start and end time, start and end station, bike ID, and user type. Additionally, demographic data such as age, gender, and membership type is provided for some users.\n",
    "\n",
    "- `duration_sec`: The duration of the bike ride in seconds\n",
    "- `start_time`: The date and time the bike ride started\n",
    "- `end_time`: The date and time the bike ride ended\n",
    "- `start_station_id`: The ID number of the station where the ride started\n",
    "- `start_station_name`: The name of the station where the ride started\n",
    "- `start_station_latitude`: The latitude of the station where the ride started\n",
    "- `start_station_longitude`: The longitude of the station where the ride started\n",
    "- `end_station_id`: The ID number of the station where the ride ended\n",
    "- `end_station_name`: The name of the station where the ride ended\n",
    "- `end_station_latitude`: The latitude of the station where the ride ended\n",
    "- `end_station_longitude`: The longitude of the station where the ride ended\n",
    "- `bike_id`: The ID number of the bike used in the ride\n",
    "- `user_type`: The type of user, either \"Subscriber\" (members with monthly or annual memberships) or \"Customer\" (casual riders who - `purchase` a single ride or day pass)\n",
    "- `member_birth_year`: The birth year of the user (for subscribers only)\n",
    "- `member_gender`: The gender of the user (for subscribers only)\n",
    "\n",
    "These columns provide information on the duration and location of the bike ride, the bike and station used, and some demographic information on the users."
   ]
  },
  {
   "cell_type": "markdown",
   "metadata": {},
   "source": []
  }
 ],
 "metadata": {
  "language_info": {
   "name": "python"
  },
  "orig_nbformat": 4
 },
 "nbformat": 4,
 "nbformat_minor": 2
}
