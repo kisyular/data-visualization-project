{
 "cells": [
  {
   "attachments": {},
   "cell_type": "markdown",
   "metadata": {},
   "source": [
    "# Part I - Ford Bike Dataset Exploration Title\n",
    "## By Rellika Kisyula"
   ]
  },
  {
   "attachments": {},
   "cell_type": "markdown",
   "metadata": {},
   "source": [
    "## Introduction\n",
    "The Ford GoBike dataset contains anonymized trip data for the bike-sharing system from June 2017 to April 2019. <p style=\"color:red\"> **However, I decided to only use the data in the year 2018 (January 2018 to December 2018).**</p> The data includes information on individual bike rides such as trip duration, start and end time, start and end station, bike ID, and user type. Additionally, demographic data such as age, gender, and membership type is provided for some users.\n",
    "\n",
    "- `duration_sec`: The duration of the bike ride in seconds\n",
    "- `start_time`: The date and time the bike ride started\n",
    "- `end_time`: The date and time the bike ride ended\n",
    "- `start_station_id`: The ID number of the station where the ride started\n",
    "- `start_station_name`: The name of the station where the ride started\n",
    "- `start_station_latitude`: The latitude of the station where the ride started\n",
    "- `start_station_longitude`: The longitude of the station where the ride started\n",
    "- `end_station_id`: The ID number of the station where the ride ended\n",
    "- `end_station_name`: The name of the station where the ride ended\n",
    "- `end_station_latitude`: The latitude of the station where the ride ended\n",
    "- `end_station_longitude`: The longitude of the station where the ride ended\n",
    "- `bike_id`: The ID number of the bike used in the ride\n",
    "- `user_type`: The type of user, either \"Subscriber\" (members with monthly or annual memberships) or \"Customer\" (casual riders who - `purchase` a single ride or day pass)\n",
    "- `member_birth_year`: The birth year of the user (for subscribers only)\n",
    "- `member_gender`: The gender of the user (for subscribers only)\n",
    "\n",
    "These columns provide information on the duration and location of the bike ride, the bike and station used, and some demographic information on the users."
   ]
  },
  {
   "attachments": {},
   "cell_type": "markdown",
   "metadata": {},
   "source": [
    "### Extra Packages\n",
    "We will be calculating the distance between the start and end stations. To install this package, run the following command in the terminal:\n",
    "\n",
    "`pip install haversine`"
   ]
  },
  {
   "cell_type": "code",
   "execution_count": null,
   "metadata": {},
   "outputs": [],
   "source": [
    "%pip install haversine"
   ]
  },
  {
   "attachments": {},
   "cell_type": "markdown",
   "metadata": {},
   "source": [
    "### Importing Packages"
   ]
  },
  {
   "cell_type": "code",
   "execution_count": 80,
   "metadata": {},
   "outputs": [],
   "source": [
    "# import all packages and set plots to be embedded inline\n",
    "import numpy as np\n",
    "import pandas as pd\n",
    "import matplotlib.pyplot as plt\n",
    "import seaborn as sb\n",
    "\n",
    "%matplotlib inline\n",
    "# import the haversine package\n",
    "from haversine import haversine"
   ]
  },
  {
   "attachments": {},
   "cell_type": "markdown",
   "metadata": {},
   "source": [
    "### Base Color\n",
    "The base color for this project is `#1F77B4`."
   ]
  },
  {
   "cell_type": "code",
   "execution_count": 81,
   "metadata": {},
   "outputs": [],
   "source": [
    "base_color = sb.color_palette()[0]"
   ]
  },
  {
   "attachments": {},
   "cell_type": "markdown",
   "metadata": {},
   "source": [
    "### Downloading the Dataset\n",
    "I manually downloaded the datasets from the [System Data | Bay Wheels | Lyft](https://www.lyft.com/bikes/bay-wheels/system-data) page. The datasets were in the form of a zip file. I extracted the zip files and saved the csv files in the `data` folder as this notebook. The zip files are in `data/zip_files` folder."
   ]
  },
  {
   "attachments": {},
   "cell_type": "markdown",
   "metadata": {},
   "source": [
    "### Unzipping the Dataset\n",
    "Imagine you have zip files stored in `./data/zip_files `with names like 201801-fordgobike-tripdata.csv.zip, 201802-fordgobike-tripdata.csv.zip, etc. You can use the following code to extract all the zip files into the `./data/data_files` folder."
   ]
  },
  {
   "cell_type": "code",
   "execution_count": 82,
   "metadata": {},
   "outputs": [],
   "source": [
    "# Unzip zip files in the data/zip_files folder into the data/data_files folder\n",
    "import zipfile\n",
    "import os\n",
    "\n",
    "# create a list of all zip files in the zip_files folder\n",
    "zip_files = os.listdir('./data/zip_files')\n",
    "\n",
    "# loop through the list of zip files\n",
    "for zip_file in zip_files:\n",
    "    # create a full path to the zip file\n",
    "    zip_path = './data/zip_files/' + zip_file\n",
    "    # extract the zip file to the data folder\n",
    "    with zipfile.ZipFile(zip_path, 'r') as zip_ref:\n",
    "        zip_ref.extractall('./data/data_files')"
   ]
  },
  {
   "attachments": {},
   "cell_type": "markdown",
   "metadata": {},
   "source": [
    "> **Note:** The code above is adapted from [How to unzip multiple files in a folder using Python?](https://stackoverflow.com/questions/3451111/unzipping-files-in-python)\n",
    "\n",
    "> **Note:** The folder `data/data_files` is not included in the repository because it contains the extracted csv files. These csv files can be generated by running the code above."
   ]
  },
  {
   "attachments": {},
   "cell_type": "markdown",
   "metadata": {},
   "source": [
    "### Combining the Datasets\n",
    "I combined the datasets into one csv file by reading all the csv files in the `./data/data_files` folder into an individual pandas dataframe. I then saved the combined those individual dataframe into a csv file in the `data` folder as `bike_data.csv`."
   ]
  },
  {
   "cell_type": "code",
   "execution_count": 83,
   "metadata": {},
   "outputs": [
    {
     "data": {
      "text/html": [
       "<div>\n",
       "<style scoped>\n",
       "    .dataframe tbody tr th:only-of-type {\n",
       "        vertical-align: middle;\n",
       "    }\n",
       "\n",
       "    .dataframe tbody tr th {\n",
       "        vertical-align: top;\n",
       "    }\n",
       "\n",
       "    .dataframe thead th {\n",
       "        text-align: right;\n",
       "    }\n",
       "</style>\n",
       "<table border=\"1\" class=\"dataframe\">\n",
       "  <thead>\n",
       "    <tr style=\"text-align: right;\">\n",
       "      <th></th>\n",
       "      <th>duration_sec</th>\n",
       "      <th>start_time</th>\n",
       "      <th>end_time</th>\n",
       "      <th>start_station_id</th>\n",
       "      <th>start_station_name</th>\n",
       "      <th>start_station_latitude</th>\n",
       "      <th>start_station_longitude</th>\n",
       "      <th>end_station_id</th>\n",
       "      <th>end_station_name</th>\n",
       "      <th>end_station_latitude</th>\n",
       "      <th>end_station_longitude</th>\n",
       "      <th>bike_id</th>\n",
       "      <th>user_type</th>\n",
       "      <th>member_birth_year</th>\n",
       "      <th>member_gender</th>\n",
       "      <th>bike_share_for_all_trip</th>\n",
       "    </tr>\n",
       "  </thead>\n",
       "  <tbody>\n",
       "    <tr>\n",
       "      <th>6296</th>\n",
       "      <td>178</td>\n",
       "      <td>2018-01-30 16:55:08.8090</td>\n",
       "      <td>2018-01-30 16:58:07.8020</td>\n",
       "      <td>182</td>\n",
       "      <td>19th Street BART Station</td>\n",
       "      <td>37.809013</td>\n",
       "      <td>-122.268247</td>\n",
       "      <td>180</td>\n",
       "      <td>Telegraph Ave at 23rd St</td>\n",
       "      <td>37.812678</td>\n",
       "      <td>-122.268773</td>\n",
       "      <td>152</td>\n",
       "      <td>Subscriber</td>\n",
       "      <td>1989.0</td>\n",
       "      <td>Male</td>\n",
       "      <td>No</td>\n",
       "    </tr>\n",
       "    <tr>\n",
       "      <th>17535</th>\n",
       "      <td>1742</td>\n",
       "      <td>2018-01-27 12:09:03.7450</td>\n",
       "      <td>2018-01-27 12:38:06.4410</td>\n",
       "      <td>119</td>\n",
       "      <td>18th St at Noe St</td>\n",
       "      <td>37.761047</td>\n",
       "      <td>-122.432642</td>\n",
       "      <td>70</td>\n",
       "      <td>Central Ave at Fell St</td>\n",
       "      <td>37.773311</td>\n",
       "      <td>-122.444293</td>\n",
       "      <td>1327</td>\n",
       "      <td>Customer</td>\n",
       "      <td>NaN</td>\n",
       "      <td>NaN</td>\n",
       "      <td>No</td>\n",
       "    </tr>\n",
       "    <tr>\n",
       "      <th>32689</th>\n",
       "      <td>582</td>\n",
       "      <td>2018-01-23 08:49:26.5720</td>\n",
       "      <td>2018-01-23 08:59:08.7800</td>\n",
       "      <td>122</td>\n",
       "      <td>19th St at Mission St</td>\n",
       "      <td>37.760299</td>\n",
       "      <td>-122.418892</td>\n",
       "      <td>60</td>\n",
       "      <td>8th St at Ringold St</td>\n",
       "      <td>37.774520</td>\n",
       "      <td>-122.409449</td>\n",
       "      <td>353</td>\n",
       "      <td>Subscriber</td>\n",
       "      <td>1991.0</td>\n",
       "      <td>Male</td>\n",
       "      <td>No</td>\n",
       "    </tr>\n",
       "    <tr>\n",
       "      <th>37241</th>\n",
       "      <td>610</td>\n",
       "      <td>2018-01-22 08:01:13.1060</td>\n",
       "      <td>2018-01-22 08:11:23.8990</td>\n",
       "      <td>89</td>\n",
       "      <td>Division St at Potrero Ave</td>\n",
       "      <td>37.769218</td>\n",
       "      <td>-122.407646</td>\n",
       "      <td>5</td>\n",
       "      <td>Powell St BART Station (Market St at 5th St)</td>\n",
       "      <td>37.783899</td>\n",
       "      <td>-122.408445</td>\n",
       "      <td>45</td>\n",
       "      <td>Customer</td>\n",
       "      <td>NaN</td>\n",
       "      <td>NaN</td>\n",
       "      <td>No</td>\n",
       "    </tr>\n",
       "    <tr>\n",
       "      <th>93468</th>\n",
       "      <td>7699</td>\n",
       "      <td>2018-01-01 19:53:16.4740</td>\n",
       "      <td>2018-01-01 22:01:35.9910</td>\n",
       "      <td>21</td>\n",
       "      <td>Montgomery St BART Station (Market St at 2nd St)</td>\n",
       "      <td>37.789625</td>\n",
       "      <td>-122.400811</td>\n",
       "      <td>8</td>\n",
       "      <td>The Embarcadero at Vallejo St</td>\n",
       "      <td>37.799953</td>\n",
       "      <td>-122.398525</td>\n",
       "      <td>2945</td>\n",
       "      <td>Customer</td>\n",
       "      <td>NaN</td>\n",
       "      <td>NaN</td>\n",
       "      <td>No</td>\n",
       "    </tr>\n",
       "  </tbody>\n",
       "</table>\n",
       "</div>"
      ],
      "text/plain": [
       "       duration_sec                start_time                  end_time  \\\n",
       "6296            178  2018-01-30 16:55:08.8090  2018-01-30 16:58:07.8020   \n",
       "17535          1742  2018-01-27 12:09:03.7450  2018-01-27 12:38:06.4410   \n",
       "32689           582  2018-01-23 08:49:26.5720  2018-01-23 08:59:08.7800   \n",
       "37241           610  2018-01-22 08:01:13.1060  2018-01-22 08:11:23.8990   \n",
       "93468          7699  2018-01-01 19:53:16.4740  2018-01-01 22:01:35.9910   \n",
       "\n",
       "       start_station_id                                start_station_name  \\\n",
       "6296                182                          19th Street BART Station   \n",
       "17535               119                                 18th St at Noe St   \n",
       "32689               122                             19th St at Mission St   \n",
       "37241                89                        Division St at Potrero Ave   \n",
       "93468                21  Montgomery St BART Station (Market St at 2nd St)   \n",
       "\n",
       "       start_station_latitude  start_station_longitude  end_station_id  \\\n",
       "6296                37.809013              -122.268247             180   \n",
       "17535               37.761047              -122.432642              70   \n",
       "32689               37.760299              -122.418892              60   \n",
       "37241               37.769218              -122.407646               5   \n",
       "93468               37.789625              -122.400811               8   \n",
       "\n",
       "                                   end_station_name  end_station_latitude  \\\n",
       "6296                       Telegraph Ave at 23rd St             37.812678   \n",
       "17535                        Central Ave at Fell St             37.773311   \n",
       "32689                          8th St at Ringold St             37.774520   \n",
       "37241  Powell St BART Station (Market St at 5th St)             37.783899   \n",
       "93468                 The Embarcadero at Vallejo St             37.799953   \n",
       "\n",
       "       end_station_longitude  bike_id   user_type  member_birth_year  \\\n",
       "6296             -122.268773      152  Subscriber             1989.0   \n",
       "17535            -122.444293     1327    Customer                NaN   \n",
       "32689            -122.409449      353  Subscriber             1991.0   \n",
       "37241            -122.408445       45    Customer                NaN   \n",
       "93468            -122.398525     2945    Customer                NaN   \n",
       "\n",
       "      member_gender bike_share_for_all_trip  \n",
       "6296           Male                      No  \n",
       "17535           NaN                      No  \n",
       "32689          Male                      No  \n",
       "37241           NaN                      No  \n",
       "93468           NaN                      No  "
      ]
     },
     "execution_count": 83,
     "metadata": {},
     "output_type": "execute_result"
    }
   ],
   "source": [
    "# Read the data files from the data/data_files folder\n",
    "january = pd.read_csv('./data/data_files/201801-fordgobike-tripdata.csv')\n",
    "january.sample(5)"
   ]
  },
  {
   "cell_type": "code",
   "execution_count": 84,
   "metadata": {},
   "outputs": [
    {
     "data": {
      "text/html": [
       "<div>\n",
       "<style scoped>\n",
       "    .dataframe tbody tr th:only-of-type {\n",
       "        vertical-align: middle;\n",
       "    }\n",
       "\n",
       "    .dataframe tbody tr th {\n",
       "        vertical-align: top;\n",
       "    }\n",
       "\n",
       "    .dataframe thead th {\n",
       "        text-align: right;\n",
       "    }\n",
       "</style>\n",
       "<table border=\"1\" class=\"dataframe\">\n",
       "  <thead>\n",
       "    <tr style=\"text-align: right;\">\n",
       "      <th></th>\n",
       "      <th>duration_sec</th>\n",
       "      <th>start_time</th>\n",
       "      <th>end_time</th>\n",
       "      <th>start_station_id</th>\n",
       "      <th>start_station_name</th>\n",
       "      <th>start_station_latitude</th>\n",
       "      <th>start_station_longitude</th>\n",
       "      <th>end_station_id</th>\n",
       "      <th>end_station_name</th>\n",
       "      <th>end_station_latitude</th>\n",
       "      <th>end_station_longitude</th>\n",
       "      <th>bike_id</th>\n",
       "      <th>user_type</th>\n",
       "      <th>member_birth_year</th>\n",
       "      <th>member_gender</th>\n",
       "      <th>bike_share_for_all_trip</th>\n",
       "    </tr>\n",
       "  </thead>\n",
       "  <tbody>\n",
       "    <tr>\n",
       "      <th>90984</th>\n",
       "      <td>193</td>\n",
       "      <td>2018-09-17 08:31:51.8550</td>\n",
       "      <td>2018-09-17 08:35:05.1720</td>\n",
       "      <td>318.0</td>\n",
       "      <td>San Carlos St at Market St</td>\n",
       "      <td>37.330698</td>\n",
       "      <td>-121.888979</td>\n",
       "      <td>310.0</td>\n",
       "      <td>San Fernando St at 4th St</td>\n",
       "      <td>37.335885</td>\n",
       "      <td>-121.885660</td>\n",
       "      <td>2529</td>\n",
       "      <td>Subscriber</td>\n",
       "      <td>1990.0</td>\n",
       "      <td>Male</td>\n",
       "      <td>Yes</td>\n",
       "    </tr>\n",
       "    <tr>\n",
       "      <th>83135</th>\n",
       "      <td>657</td>\n",
       "      <td>2018-09-18 08:52:05.4800</td>\n",
       "      <td>2018-09-18 09:03:03.2710</td>\n",
       "      <td>14.0</td>\n",
       "      <td>Clay St at Battery St</td>\n",
       "      <td>37.795001</td>\n",
       "      <td>-122.399970</td>\n",
       "      <td>6.0</td>\n",
       "      <td>The Embarcadero at Sansome St</td>\n",
       "      <td>37.804770</td>\n",
       "      <td>-122.403234</td>\n",
       "      <td>1758</td>\n",
       "      <td>Customer</td>\n",
       "      <td>1953.0</td>\n",
       "      <td>Male</td>\n",
       "      <td>No</td>\n",
       "    </tr>\n",
       "    <tr>\n",
       "      <th>173018</th>\n",
       "      <td>787</td>\n",
       "      <td>2018-09-04 12:46:41.4690</td>\n",
       "      <td>2018-09-04 12:59:48.7740</td>\n",
       "      <td>30.0</td>\n",
       "      <td>San Francisco Caltrain (Townsend St at 4th St)</td>\n",
       "      <td>37.776598</td>\n",
       "      <td>-122.395282</td>\n",
       "      <td>13.0</td>\n",
       "      <td>Commercial St at Montgomery St</td>\n",
       "      <td>37.794231</td>\n",
       "      <td>-122.402923</td>\n",
       "      <td>3895</td>\n",
       "      <td>Subscriber</td>\n",
       "      <td>1989.0</td>\n",
       "      <td>Male</td>\n",
       "      <td>No</td>\n",
       "    </tr>\n",
       "    <tr>\n",
       "      <th>177339</th>\n",
       "      <td>154</td>\n",
       "      <td>2018-09-03 16:32:55.4910</td>\n",
       "      <td>2018-09-03 16:35:30.3950</td>\n",
       "      <td>52.0</td>\n",
       "      <td>McAllister St at Baker St</td>\n",
       "      <td>37.777416</td>\n",
       "      <td>-122.441838</td>\n",
       "      <td>53.0</td>\n",
       "      <td>Grove St at Divisadero</td>\n",
       "      <td>37.775946</td>\n",
       "      <td>-122.437777</td>\n",
       "      <td>2028</td>\n",
       "      <td>Subscriber</td>\n",
       "      <td>1993.0</td>\n",
       "      <td>Male</td>\n",
       "      <td>No</td>\n",
       "    </tr>\n",
       "    <tr>\n",
       "      <th>93243</th>\n",
       "      <td>242</td>\n",
       "      <td>2018-09-16 17:01:01.8580</td>\n",
       "      <td>2018-09-16 17:05:04.3830</td>\n",
       "      <td>281.0</td>\n",
       "      <td>9th St at San Fernando St</td>\n",
       "      <td>37.338395</td>\n",
       "      <td>-121.880797</td>\n",
       "      <td>311.0</td>\n",
       "      <td>Paseo De San Antonio at 2nd St</td>\n",
       "      <td>37.333798</td>\n",
       "      <td>-121.886943</td>\n",
       "      <td>1588</td>\n",
       "      <td>Customer</td>\n",
       "      <td>1984.0</td>\n",
       "      <td>Male</td>\n",
       "      <td>No</td>\n",
       "    </tr>\n",
       "  </tbody>\n",
       "</table>\n",
       "</div>"
      ],
      "text/plain": [
       "        duration_sec                start_time                  end_time  \\\n",
       "90984            193  2018-09-17 08:31:51.8550  2018-09-17 08:35:05.1720   \n",
       "83135            657  2018-09-18 08:52:05.4800  2018-09-18 09:03:03.2710   \n",
       "173018           787  2018-09-04 12:46:41.4690  2018-09-04 12:59:48.7740   \n",
       "177339           154  2018-09-03 16:32:55.4910  2018-09-03 16:35:30.3950   \n",
       "93243            242  2018-09-16 17:01:01.8580  2018-09-16 17:05:04.3830   \n",
       "\n",
       "        start_station_id                              start_station_name  \\\n",
       "90984              318.0                      San Carlos St at Market St   \n",
       "83135               14.0                           Clay St at Battery St   \n",
       "173018              30.0  San Francisco Caltrain (Townsend St at 4th St)   \n",
       "177339              52.0                       McAllister St at Baker St   \n",
       "93243              281.0                       9th St at San Fernando St   \n",
       "\n",
       "        start_station_latitude  start_station_longitude  end_station_id  \\\n",
       "90984                37.330698              -121.888979           310.0   \n",
       "83135                37.795001              -122.399970             6.0   \n",
       "173018               37.776598              -122.395282            13.0   \n",
       "177339               37.777416              -122.441838            53.0   \n",
       "93243                37.338395              -121.880797           311.0   \n",
       "\n",
       "                      end_station_name  end_station_latitude  \\\n",
       "90984        San Fernando St at 4th St             37.335885   \n",
       "83135    The Embarcadero at Sansome St             37.804770   \n",
       "173018  Commercial St at Montgomery St             37.794231   \n",
       "177339          Grove St at Divisadero             37.775946   \n",
       "93243   Paseo De San Antonio at 2nd St             37.333798   \n",
       "\n",
       "        end_station_longitude  bike_id   user_type  member_birth_year  \\\n",
       "90984             -121.885660     2529  Subscriber             1990.0   \n",
       "83135             -122.403234     1758    Customer             1953.0   \n",
       "173018            -122.402923     3895  Subscriber             1989.0   \n",
       "177339            -122.437777     2028  Subscriber             1993.0   \n",
       "93243             -121.886943     1588    Customer             1984.0   \n",
       "\n",
       "       member_gender bike_share_for_all_trip  \n",
       "90984           Male                     Yes  \n",
       "83135           Male                      No  \n",
       "173018          Male                      No  \n",
       "177339          Male                      No  \n",
       "93243           Male                      No  "
      ]
     },
     "execution_count": 84,
     "metadata": {},
     "output_type": "execute_result"
    }
   ],
   "source": [
    "september = pd.read_csv('./data/data_files/201809-fordgobike-tripdata.csv')\n",
    "september.sample(5)"
   ]
  },
  {
   "attachments": {},
   "cell_type": "markdown",
   "metadata": {},
   "source": [
    "**Instead of reading the data files one by one, we can use a for loop to read all the files**"
   ]
  },
  {
   "cell_type": "code",
   "execution_count": 85,
   "metadata": {},
   "outputs": [],
   "source": [
    "# create a list of all data files in the data_files folder\n",
    "data_files = os.listdir('./data/data_files')"
   ]
  },
  {
   "cell_type": "code",
   "execution_count": 86,
   "metadata": {},
   "outputs": [],
   "source": [
    "# Function to loop through the data files and read them into a dataframe\n",
    "def read_data_files( data_files):\n",
    "    # create an empty list to store the dataframes\n",
    "    dataframe_list = []\n",
    "    # loop through the list of data files\n",
    "    for data_file in data_files:\n",
    "        # ignore if it is not a csv file\n",
    "        if data_file[-3:] != 'csv':\n",
    "            continue\n",
    "        # create a full path to the data file\n",
    "        data_path = './data/data_files/' + data_file\n",
    "        # read the data file and append it to the list of dataframes\n",
    "        dataframe_list.append(pd.read_csv(data_path))\n",
    "    # return the list of dataframes\n",
    "    return dataframe_list"
   ]
  },
  {
   "cell_type": "code",
   "execution_count": 87,
   "metadata": {},
   "outputs": [],
   "source": [
    "dataframes = read_data_files(data_files)\n",
    "# concatenate the dataframes into one dataframe\n",
    "bike_data = pd.concat(dataframes, ignore_index=True)"
   ]
  },
  {
   "cell_type": "code",
   "execution_count": 88,
   "metadata": {},
   "outputs": [
    {
     "data": {
      "text/html": [
       "<div>\n",
       "<style scoped>\n",
       "    .dataframe tbody tr th:only-of-type {\n",
       "        vertical-align: middle;\n",
       "    }\n",
       "\n",
       "    .dataframe tbody tr th {\n",
       "        vertical-align: top;\n",
       "    }\n",
       "\n",
       "    .dataframe thead th {\n",
       "        text-align: right;\n",
       "    }\n",
       "</style>\n",
       "<table border=\"1\" class=\"dataframe\">\n",
       "  <thead>\n",
       "    <tr style=\"text-align: right;\">\n",
       "      <th></th>\n",
       "      <th>duration_sec</th>\n",
       "      <th>start_time</th>\n",
       "      <th>end_time</th>\n",
       "      <th>start_station_id</th>\n",
       "      <th>start_station_name</th>\n",
       "      <th>start_station_latitude</th>\n",
       "      <th>start_station_longitude</th>\n",
       "      <th>end_station_id</th>\n",
       "      <th>end_station_name</th>\n",
       "      <th>end_station_latitude</th>\n",
       "      <th>end_station_longitude</th>\n",
       "      <th>bike_id</th>\n",
       "      <th>user_type</th>\n",
       "      <th>member_birth_year</th>\n",
       "      <th>member_gender</th>\n",
       "      <th>bike_share_for_all_trip</th>\n",
       "    </tr>\n",
       "  </thead>\n",
       "  <tbody>\n",
       "    <tr>\n",
       "      <th>1339572</th>\n",
       "      <td>640</td>\n",
       "      <td>2018-08-13 21:20:05.9510</td>\n",
       "      <td>2018-08-13 21:30:45.9680</td>\n",
       "      <td>195.0</td>\n",
       "      <td>Bay Pl at Vernon St</td>\n",
       "      <td>37.812314</td>\n",
       "      <td>-122.260779</td>\n",
       "      <td>162.0</td>\n",
       "      <td>Franklin St at 9th St</td>\n",
       "      <td>37.800516</td>\n",
       "      <td>-122.272080</td>\n",
       "      <td>1250</td>\n",
       "      <td>Subscriber</td>\n",
       "      <td>1988.0</td>\n",
       "      <td>Male</td>\n",
       "      <td>Yes</td>\n",
       "    </tr>\n",
       "    <tr>\n",
       "      <th>1156212</th>\n",
       "      <td>321</td>\n",
       "      <td>2018-07-12 17:01:13.5340</td>\n",
       "      <td>2018-07-12 17:06:34.8930</td>\n",
       "      <td>37.0</td>\n",
       "      <td>2nd St at Folsom St</td>\n",
       "      <td>37.785000</td>\n",
       "      <td>-122.395936</td>\n",
       "      <td>30.0</td>\n",
       "      <td>San Francisco Caltrain (Townsend St at 4th St)</td>\n",
       "      <td>37.776598</td>\n",
       "      <td>-122.395282</td>\n",
       "      <td>3326</td>\n",
       "      <td>Subscriber</td>\n",
       "      <td>1981.0</td>\n",
       "      <td>Male</td>\n",
       "      <td>No</td>\n",
       "    </tr>\n",
       "    <tr>\n",
       "      <th>1095755</th>\n",
       "      <td>564</td>\n",
       "      <td>2018-07-21 15:10:58.6860</td>\n",
       "      <td>2018-07-21 15:20:23.1020</td>\n",
       "      <td>81.0</td>\n",
       "      <td>Berry St at 4th St</td>\n",
       "      <td>37.775880</td>\n",
       "      <td>-122.393170</td>\n",
       "      <td>21.0</td>\n",
       "      <td>Montgomery St BART Station (Market St at 2nd St)</td>\n",
       "      <td>37.789625</td>\n",
       "      <td>-122.400811</td>\n",
       "      <td>1618</td>\n",
       "      <td>Subscriber</td>\n",
       "      <td>1988.0</td>\n",
       "      <td>Male</td>\n",
       "      <td>No</td>\n",
       "    </tr>\n",
       "    <tr>\n",
       "      <th>1802763</th>\n",
       "      <td>859</td>\n",
       "      <td>2018-04-16 16:43:20.6470</td>\n",
       "      <td>2018-04-16 16:57:40.1910</td>\n",
       "      <td>58.0</td>\n",
       "      <td>Market St at 10th St</td>\n",
       "      <td>37.776619</td>\n",
       "      <td>-122.417385</td>\n",
       "      <td>15.0</td>\n",
       "      <td>San Francisco Ferry Building (Harry Bridges Pl...</td>\n",
       "      <td>37.795392</td>\n",
       "      <td>-122.394203</td>\n",
       "      <td>647</td>\n",
       "      <td>Subscriber</td>\n",
       "      <td>1969.0</td>\n",
       "      <td>Male</td>\n",
       "      <td>No</td>\n",
       "    </tr>\n",
       "    <tr>\n",
       "      <th>669614</th>\n",
       "      <td>414</td>\n",
       "      <td>2018-05-23 17:41:52.0110</td>\n",
       "      <td>2018-05-23 17:48:46.3290</td>\n",
       "      <td>15.0</td>\n",
       "      <td>San Francisco Ferry Building (Harry Bridges Pl...</td>\n",
       "      <td>37.795392</td>\n",
       "      <td>-122.394203</td>\n",
       "      <td>6.0</td>\n",
       "      <td>The Embarcadero at Sansome St</td>\n",
       "      <td>37.804770</td>\n",
       "      <td>-122.403234</td>\n",
       "      <td>3854</td>\n",
       "      <td>Customer</td>\n",
       "      <td>NaN</td>\n",
       "      <td>NaN</td>\n",
       "      <td>No</td>\n",
       "    </tr>\n",
       "  </tbody>\n",
       "</table>\n",
       "</div>"
      ],
      "text/plain": [
       "         duration_sec                start_time                  end_time  \\\n",
       "1339572           640  2018-08-13 21:20:05.9510  2018-08-13 21:30:45.9680   \n",
       "1156212           321  2018-07-12 17:01:13.5340  2018-07-12 17:06:34.8930   \n",
       "1095755           564  2018-07-21 15:10:58.6860  2018-07-21 15:20:23.1020   \n",
       "1802763           859  2018-04-16 16:43:20.6470  2018-04-16 16:57:40.1910   \n",
       "669614            414  2018-05-23 17:41:52.0110  2018-05-23 17:48:46.3290   \n",
       "\n",
       "         start_station_id                                 start_station_name  \\\n",
       "1339572             195.0                                Bay Pl at Vernon St   \n",
       "1156212              37.0                                2nd St at Folsom St   \n",
       "1095755              81.0                                 Berry St at 4th St   \n",
       "1802763              58.0                               Market St at 10th St   \n",
       "669614               15.0  San Francisco Ferry Building (Harry Bridges Pl...   \n",
       "\n",
       "         start_station_latitude  start_station_longitude  end_station_id  \\\n",
       "1339572               37.812314              -122.260779           162.0   \n",
       "1156212               37.785000              -122.395936            30.0   \n",
       "1095755               37.775880              -122.393170            21.0   \n",
       "1802763               37.776619              -122.417385            15.0   \n",
       "669614                37.795392              -122.394203             6.0   \n",
       "\n",
       "                                          end_station_name  \\\n",
       "1339572                              Franklin St at 9th St   \n",
       "1156212     San Francisco Caltrain (Townsend St at 4th St)   \n",
       "1095755   Montgomery St BART Station (Market St at 2nd St)   \n",
       "1802763  San Francisco Ferry Building (Harry Bridges Pl...   \n",
       "669614                       The Embarcadero at Sansome St   \n",
       "\n",
       "         end_station_latitude  end_station_longitude  bike_id   user_type  \\\n",
       "1339572             37.800516            -122.272080     1250  Subscriber   \n",
       "1156212             37.776598            -122.395282     3326  Subscriber   \n",
       "1095755             37.789625            -122.400811     1618  Subscriber   \n",
       "1802763             37.795392            -122.394203      647  Subscriber   \n",
       "669614              37.804770            -122.403234     3854    Customer   \n",
       "\n",
       "         member_birth_year member_gender bike_share_for_all_trip  \n",
       "1339572             1988.0          Male                     Yes  \n",
       "1156212             1981.0          Male                      No  \n",
       "1095755             1988.0          Male                      No  \n",
       "1802763             1969.0          Male                      No  \n",
       "669614                 NaN           NaN                      No  "
      ]
     },
     "execution_count": 88,
     "metadata": {},
     "output_type": "execute_result"
    }
   ],
   "source": [
    "bike_data.sample(5)"
   ]
  },
  {
   "cell_type": "code",
   "execution_count": 89,
   "metadata": {},
   "outputs": [
    {
     "data": {
      "text/plain": [
       "(1863721, 16)"
      ]
     },
     "execution_count": 89,
     "metadata": {},
     "output_type": "execute_result"
    }
   ],
   "source": [
    "bike_data.shape"
   ]
  },
  {
   "attachments": {},
   "cell_type": "markdown",
   "metadata": {},
   "source": [
    "> To confirm if all the rows of each dataset was added onto the dataframe, lets check the number of rows in the combined dataframe and the sum of the number of rows in each individual dataframe."
   ]
  },
  {
   "cell_type": "code",
   "execution_count": 90,
   "metadata": {},
   "outputs": [
    {
     "name": "stdout",
     "output_type": "stream",
     "text": [
      "(106718, 16)\n",
      "(134135, 16)\n",
      "(186217, 16)\n",
      "(195968, 16)\n",
      "(179125, 16)\n",
      "(131363, 16)\n",
      "(94802, 16)\n",
      "(199222, 16)\n",
      "(192162, 16)\n",
      "(201458, 16)\n",
      "(111382, 16)\n",
      "(131169, 16)\n",
      "[106718, 134135, 186217, 195968, 179125, 131363, 94802, 199222, 192162, 201458, 111382, 131169]\n"
     ]
    },
    {
     "data": {
      "text/plain": [
       "True"
      ]
     },
     "execution_count": 90,
     "metadata": {},
     "output_type": "execute_result"
    }
   ],
   "source": [
    "number_of_rows = []\n",
    "# Loop through the list of dataframes and print the shape of each dataframe\n",
    "for dataframe in dataframes:\n",
    "    print(dataframe.shape)\n",
    "    number_of_rows.append(dataframe.shape[0])\n",
    "print(number_of_rows)\n",
    "# Confirm that sum of the number of rows in each dataframe is equal to the number of rows in the concatenated dataframe\n",
    "sum(number_of_rows) == bike_data.shape[0]"
   ]
  },
  {
   "attachments": {},
   "cell_type": "markdown",
   "metadata": {},
   "source": [
    "## Data Preparation"
   ]
  },
  {
   "attachments": {},
   "cell_type": "markdown",
   "metadata": {},
   "source": [
    "**The following are the changes made to the dataset before saving it:**\n",
    "1. Get the distance travelled from the coordinates using `haversine` package\n",
    "2. Get the age of the users from the `member_birth_year` column\n",
    "3. Extract the hour, day, month and year from the `start_time`\n",
    "4. Creating period of day (`period_of_day`) column from the `hour` column"
   ]
  },
  {
   "attachments": {},
   "cell_type": "markdown",
   "metadata": {},
   "source": [
    "### 1: Calcultate distance travelled using the `haversine` package\n",
    "I decided to find the distance the riders rode. I used the Haversine formula to calculate the distance between the start and end points of the ride."
   ]
  },
  {
   "cell_type": "code",
   "execution_count": 91,
   "metadata": {},
   "outputs": [],
   "source": [
    "# Create a new column `distance` which is the distance between the start and end station\n",
    "bike_data['distance'] = bike_data.apply(lambda x: haversine((x['start_station_latitude'], x['start_station_longitude']),\n",
    "                                                                    (x['end_station_latitude'], x['end_station_longitude'])), axis=1)   "
   ]
  },
  {
   "attachments": {},
   "cell_type": "markdown",
   "metadata": {},
   "source": [
    "### 2: Calculate the age of the users"
   ]
  },
  {
   "cell_type": "code",
   "execution_count": 92,
   "metadata": {},
   "outputs": [
    {
     "data": {
      "text/html": [
       "<div>\n",
       "<style scoped>\n",
       "    .dataframe tbody tr th:only-of-type {\n",
       "        vertical-align: middle;\n",
       "    }\n",
       "\n",
       "    .dataframe tbody tr th {\n",
       "        vertical-align: top;\n",
       "    }\n",
       "\n",
       "    .dataframe thead th {\n",
       "        text-align: right;\n",
       "    }\n",
       "</style>\n",
       "<table border=\"1\" class=\"dataframe\">\n",
       "  <thead>\n",
       "    <tr style=\"text-align: right;\">\n",
       "      <th></th>\n",
       "      <th>member_birth_year</th>\n",
       "      <th>member_age</th>\n",
       "    </tr>\n",
       "  </thead>\n",
       "  <tbody>\n",
       "    <tr>\n",
       "      <th>9942</th>\n",
       "      <td>1976.0</td>\n",
       "      <td>42.0</td>\n",
       "    </tr>\n",
       "    <tr>\n",
       "      <th>1628966</th>\n",
       "      <td>1964.0</td>\n",
       "      <td>54.0</td>\n",
       "    </tr>\n",
       "    <tr>\n",
       "      <th>1295504</th>\n",
       "      <td>1983.0</td>\n",
       "      <td>35.0</td>\n",
       "    </tr>\n",
       "    <tr>\n",
       "      <th>1228287</th>\n",
       "      <td>1986.0</td>\n",
       "      <td>32.0</td>\n",
       "    </tr>\n",
       "    <tr>\n",
       "      <th>709065</th>\n",
       "      <td>1987.0</td>\n",
       "      <td>31.0</td>\n",
       "    </tr>\n",
       "    <tr>\n",
       "      <th>663747</th>\n",
       "      <td>1986.0</td>\n",
       "      <td>32.0</td>\n",
       "    </tr>\n",
       "    <tr>\n",
       "      <th>1123852</th>\n",
       "      <td>1977.0</td>\n",
       "      <td>41.0</td>\n",
       "    </tr>\n",
       "    <tr>\n",
       "      <th>1107968</th>\n",
       "      <td>1972.0</td>\n",
       "      <td>46.0</td>\n",
       "    </tr>\n",
       "    <tr>\n",
       "      <th>1299553</th>\n",
       "      <td>1979.0</td>\n",
       "      <td>39.0</td>\n",
       "    </tr>\n",
       "    <tr>\n",
       "      <th>750046</th>\n",
       "      <td>1988.0</td>\n",
       "      <td>30.0</td>\n",
       "    </tr>\n",
       "  </tbody>\n",
       "</table>\n",
       "</div>"
      ],
      "text/plain": [
       "         member_birth_year  member_age\n",
       "9942                1976.0        42.0\n",
       "1628966             1964.0        54.0\n",
       "1295504             1983.0        35.0\n",
       "1228287             1986.0        32.0\n",
       "709065              1987.0        31.0\n",
       "663747              1986.0        32.0\n",
       "1123852             1977.0        41.0\n",
       "1107968             1972.0        46.0\n",
       "1299553             1979.0        39.0\n",
       "750046              1988.0        30.0"
      ]
     },
     "execution_count": 92,
     "metadata": {},
     "output_type": "execute_result"
    }
   ],
   "source": [
    "# Create a new column `member_age` which is the difference between the 2018 and `member_birth_year`\n",
    "bike_data['member_age'] = 2018 - bike_data.member_birth_year\n",
    "# Select the column member_birth_year and member_age\n",
    "bike_data[['member_birth_year', 'member_age']].sample(10)"
   ]
  },
  {
   "attachments": {},
   "cell_type": "markdown",
   "metadata": {},
   "source": [
    "### Extract the hour, day, month and year from the `start_time` column"
   ]
  },
  {
   "cell_type": "code",
   "execution_count": 93,
   "metadata": {},
   "outputs": [],
   "source": [
    "bike_data['start_time'] = pd.to_datetime(bike_data['start_time'])\n",
    "# Extract the month name from the start_time column\n",
    "bike_data['month_of_year'] = bike_data['start_time'].dt.strftime('%B')\n",
    "\n",
    "# Extract the day of the week from the start_time column\n",
    "bike_data['day_of_week'] = bike_data['start_time'].dt.strftime('%A')\n",
    "\n",
    "# Extract the hour from the start_time column\n",
    "bike_data['hour'] = bike_data['start_time'].dt.strftime('%H')"
   ]
  },
  {
   "cell_type": "code",
   "execution_count": 94,
   "metadata": {},
   "outputs": [
    {
     "data": {
      "text/html": [
       "<div>\n",
       "<style scoped>\n",
       "    .dataframe tbody tr th:only-of-type {\n",
       "        vertical-align: middle;\n",
       "    }\n",
       "\n",
       "    .dataframe tbody tr th {\n",
       "        vertical-align: top;\n",
       "    }\n",
       "\n",
       "    .dataframe thead th {\n",
       "        text-align: right;\n",
       "    }\n",
       "</style>\n",
       "<table border=\"1\" class=\"dataframe\">\n",
       "  <thead>\n",
       "    <tr style=\"text-align: right;\">\n",
       "      <th></th>\n",
       "      <th>start_time</th>\n",
       "      <th>month_of_year</th>\n",
       "      <th>day_of_week</th>\n",
       "      <th>hour</th>\n",
       "    </tr>\n",
       "  </thead>\n",
       "  <tbody>\n",
       "    <tr>\n",
       "      <th>266797</th>\n",
       "      <td>2018-09-26 17:35:23.713</td>\n",
       "      <td>September</td>\n",
       "      <td>Wednesday</td>\n",
       "      <td>17</td>\n",
       "    </tr>\n",
       "    <tr>\n",
       "      <th>929505</th>\n",
       "      <td>2018-12-02 15:08:45.386</td>\n",
       "      <td>December</td>\n",
       "      <td>Sunday</td>\n",
       "      <td>15</td>\n",
       "    </tr>\n",
       "    <tr>\n",
       "      <th>881349</th>\n",
       "      <td>2018-12-12 09:13:47.971</td>\n",
       "      <td>December</td>\n",
       "      <td>Wednesday</td>\n",
       "      <td>09</td>\n",
       "    </tr>\n",
       "    <tr>\n",
       "      <th>348427</th>\n",
       "      <td>2018-09-13 20:42:35.645</td>\n",
       "      <td>September</td>\n",
       "      <td>Thursday</td>\n",
       "      <td>20</td>\n",
       "    </tr>\n",
       "    <tr>\n",
       "      <th>1448320</th>\n",
       "      <td>2018-10-27 10:23:38.654</td>\n",
       "      <td>October</td>\n",
       "      <td>Saturday</td>\n",
       "      <td>10</td>\n",
       "    </tr>\n",
       "    <tr>\n",
       "      <th>1174052</th>\n",
       "      <td>2018-07-10 11:40:11.508</td>\n",
       "      <td>July</td>\n",
       "      <td>Tuesday</td>\n",
       "      <td>11</td>\n",
       "    </tr>\n",
       "    <tr>\n",
       "      <th>1184773</th>\n",
       "      <td>2018-07-09 06:42:40.909</td>\n",
       "      <td>July</td>\n",
       "      <td>Monday</td>\n",
       "      <td>06</td>\n",
       "    </tr>\n",
       "    <tr>\n",
       "      <th>750054</th>\n",
       "      <td>2018-05-09 19:45:40.943</td>\n",
       "      <td>May</td>\n",
       "      <td>Wednesday</td>\n",
       "      <td>19</td>\n",
       "    </tr>\n",
       "    <tr>\n",
       "      <th>1013831</th>\n",
       "      <td>2018-01-06 18:30:34.609</td>\n",
       "      <td>January</td>\n",
       "      <td>Saturday</td>\n",
       "      <td>18</td>\n",
       "    </tr>\n",
       "    <tr>\n",
       "      <th>266822</th>\n",
       "      <td>2018-09-26 17:39:55.348</td>\n",
       "      <td>September</td>\n",
       "      <td>Wednesday</td>\n",
       "      <td>17</td>\n",
       "    </tr>\n",
       "  </tbody>\n",
       "</table>\n",
       "</div>"
      ],
      "text/plain": [
       "                     start_time month_of_year day_of_week hour\n",
       "266797  2018-09-26 17:35:23.713     September   Wednesday   17\n",
       "929505  2018-12-02 15:08:45.386      December      Sunday   15\n",
       "881349  2018-12-12 09:13:47.971      December   Wednesday   09\n",
       "348427  2018-09-13 20:42:35.645     September    Thursday   20\n",
       "1448320 2018-10-27 10:23:38.654       October    Saturday   10\n",
       "1174052 2018-07-10 11:40:11.508          July     Tuesday   11\n",
       "1184773 2018-07-09 06:42:40.909          July      Monday   06\n",
       "750054  2018-05-09 19:45:40.943           May   Wednesday   19\n",
       "1013831 2018-01-06 18:30:34.609       January    Saturday   18\n",
       "266822  2018-09-26 17:39:55.348     September   Wednesday   17"
      ]
     },
     "execution_count": 94,
     "metadata": {},
     "output_type": "execute_result"
    }
   ],
   "source": [
    "# Select the columns start_time, month, day_of_week, hour\n",
    "bike_data[['start_time', 'month_of_year', 'day_of_week', 'hour']].sample(10)"
   ]
  },
  {
   "cell_type": "code",
   "execution_count": 95,
   "metadata": {},
   "outputs": [
    {
     "data": {
      "text/plain": [
       "October      201458\n",
       "July         199222\n",
       "June         195968\n",
       "August       192162\n",
       "September    186217\n",
       "May          179125\n",
       "November     134135\n",
       "December     131363\n",
       "April        131169\n",
       "March        111382\n",
       "February     106718\n",
       "January       94802\n",
       "Name: month_of_year, dtype: int64"
      ]
     },
     "execution_count": 95,
     "metadata": {},
     "output_type": "execute_result"
    }
   ],
   "source": [
    "# Using the `month_of_year` column, perform a value count\n",
    "bike_data.month_of_year.value_counts()"
   ]
  },
  {
   "attachments": {},
   "cell_type": "markdown",
   "metadata": {},
   "source": [
    "### Creating period of day (`period_of_day`) column from the `hour` column"
   ]
  },
  {
   "attachments": {},
   "cell_type": "markdown",
   "metadata": {},
   "source": [
    "As mentioned above, I want to get the period of the day, that is either **Early Morning**, **Morning**, **Afternoon**, **Evening**, **Night**, **Late Night**, **Midnight**. I will use the `start_time` column to extract the hour of the day and then categorize it into the above periods.  "
   ]
  },
  {
   "cell_type": "code",
   "execution_count": 96,
   "metadata": {},
   "outputs": [],
   "source": [
    "# Using the `hour`, generate a new column `period_of_day` which is the period of the day\n",
    "# Early Morning: 3am - 6am, Morning: 6am - 12pm, Afternoon: 12pm - 3pm, Evening: 3pm - 6pm, Night: 6pm - 9pm, Late Night: 9pm - 12am, Midnight: 12am - 3am\n",
    "bike_data['period_of_day'] = bike_data['hour'].apply(lambda x: 'Early Morning' if 3 <= int(x) < 6 else 'Morning' if 6 <= int(x) < 12 else 'Afternoon' if 12 <= int(x) < 15 else 'Evening' if 15 <= int(x) < 18 else 'Night' if 18 <= int(x) < 21 else 'Late Night' if 21 <= int(x) < 24 else 'Midnight')"
   ]
  },
  {
   "cell_type": "code",
   "execution_count": 99,
   "metadata": {},
   "outputs": [
    {
     "data": {
      "text/html": [
       "<div>\n",
       "<style scoped>\n",
       "    .dataframe tbody tr th:only-of-type {\n",
       "        vertical-align: middle;\n",
       "    }\n",
       "\n",
       "    .dataframe tbody tr th {\n",
       "        vertical-align: top;\n",
       "    }\n",
       "\n",
       "    .dataframe thead th {\n",
       "        text-align: right;\n",
       "    }\n",
       "</style>\n",
       "<table border=\"1\" class=\"dataframe\">\n",
       "  <thead>\n",
       "    <tr style=\"text-align: right;\">\n",
       "      <th></th>\n",
       "      <th>start_time</th>\n",
       "      <th>hour</th>\n",
       "      <th>period_of_day</th>\n",
       "    </tr>\n",
       "  </thead>\n",
       "  <tbody>\n",
       "    <tr>\n",
       "      <th>1471246</th>\n",
       "      <td>2018-10-23 21:22:20.858</td>\n",
       "      <td>21</td>\n",
       "      <td>Late Night</td>\n",
       "    </tr>\n",
       "    <tr>\n",
       "      <th>937152</th>\n",
       "      <td>2018-01-31 08:48:50.630</td>\n",
       "      <td>08</td>\n",
       "      <td>Morning</td>\n",
       "    </tr>\n",
       "    <tr>\n",
       "      <th>1650605</th>\n",
       "      <td>2018-03-25 13:53:34.639</td>\n",
       "      <td>13</td>\n",
       "      <td>Afternoon</td>\n",
       "    </tr>\n",
       "    <tr>\n",
       "      <th>1374284</th>\n",
       "      <td>2018-08-08 09:52:35.797</td>\n",
       "      <td>09</td>\n",
       "      <td>Morning</td>\n",
       "    </tr>\n",
       "    <tr>\n",
       "      <th>607563</th>\n",
       "      <td>2018-06-03 19:11:00.031</td>\n",
       "      <td>19</td>\n",
       "      <td>Night</td>\n",
       "    </tr>\n",
       "    <tr>\n",
       "      <th>1074940</th>\n",
       "      <td>2018-07-24 19:03:20.307</td>\n",
       "      <td>19</td>\n",
       "      <td>Night</td>\n",
       "    </tr>\n",
       "    <tr>\n",
       "      <th>641284</th>\n",
       "      <td>2018-05-29 10:37:30.453</td>\n",
       "      <td>10</td>\n",
       "      <td>Morning</td>\n",
       "    </tr>\n",
       "    <tr>\n",
       "      <th>1455010</th>\n",
       "      <td>2018-10-26 08:17:33.150</td>\n",
       "      <td>08</td>\n",
       "      <td>Morning</td>\n",
       "    </tr>\n",
       "    <tr>\n",
       "      <th>1418982</th>\n",
       "      <td>2018-08-01 08:02:10.306</td>\n",
       "      <td>08</td>\n",
       "      <td>Morning</td>\n",
       "    </tr>\n",
       "    <tr>\n",
       "      <th>1099078</th>\n",
       "      <td>2018-07-20 19:36:41.853</td>\n",
       "      <td>19</td>\n",
       "      <td>Night</td>\n",
       "    </tr>\n",
       "  </tbody>\n",
       "</table>\n",
       "</div>"
      ],
      "text/plain": [
       "                     start_time hour period_of_day\n",
       "1471246 2018-10-23 21:22:20.858   21    Late Night\n",
       "937152  2018-01-31 08:48:50.630   08       Morning\n",
       "1650605 2018-03-25 13:53:34.639   13     Afternoon\n",
       "1374284 2018-08-08 09:52:35.797   09       Morning\n",
       "607563  2018-06-03 19:11:00.031   19         Night\n",
       "1074940 2018-07-24 19:03:20.307   19         Night\n",
       "641284  2018-05-29 10:37:30.453   10       Morning\n",
       "1455010 2018-10-26 08:17:33.150   08       Morning\n",
       "1418982 2018-08-01 08:02:10.306   08       Morning\n",
       "1099078 2018-07-20 19:36:41.853   19         Night"
      ]
     },
     "execution_count": 99,
     "metadata": {},
     "output_type": "execute_result"
    }
   ],
   "source": [
    "# Select the columns start_time, hour, period_of_day\n",
    "bike_data[['start_time', 'hour', 'period_of_day']].sample(10)"
   ]
  },
  {
   "cell_type": "code",
   "execution_count": 100,
   "metadata": {},
   "outputs": [
    {
     "data": {
      "text/plain": [
       "Morning          669598\n",
       "Evening          459806\n",
       "Night            341831\n",
       "Afternoon        261127\n",
       "Late Night        96657\n",
       "Midnight          19815\n",
       "Early Morning     14887\n",
       "Name: period_of_day, dtype: int64"
      ]
     },
     "execution_count": 100,
     "metadata": {},
     "output_type": "execute_result"
    }
   ],
   "source": [
    "# Use the period_of_day and perform a value count\n",
    "bike_data.period_of_day.value_counts()"
   ]
  },
  {
   "attachments": {},
   "cell_type": "markdown",
   "metadata": {},
   "source": [
    "### Saving the `bike_data` dataframe to csv file.\n",
    "I saved the combined dataframe as `bike_data.csv` in the `data` folder.\n",
    "```python\n",
    "# Save the combined dataframe as bike_data.csv in the data folder\n",
    "bike_data.to_csv('data/bike_data.csv', index=False)\n",
    "```"
   ]
  },
  {
   "cell_type": "code",
   "execution_count": 101,
   "metadata": {},
   "outputs": [],
   "source": [
    "# Save the combined dataframe as bike_data.csv in the data folder\n",
    "bike_data.to_csv('data/bike_data.csv', index=False)"
   ]
  },
  {
   "attachments": {},
   "cell_type": "markdown",
   "metadata": {},
   "source": [
    "## Preliminary Wrangling\n",
    "> Load in your dataset and describe its properties through the questions below. Try and motivate your exploration goals through this section."
   ]
  },
  {
   "cell_type": "code",
   "execution_count": 102,
   "metadata": {},
   "outputs": [
    {
     "data": {
      "text/html": [
       "<div>\n",
       "<style scoped>\n",
       "    .dataframe tbody tr th:only-of-type {\n",
       "        vertical-align: middle;\n",
       "    }\n",
       "\n",
       "    .dataframe tbody tr th {\n",
       "        vertical-align: top;\n",
       "    }\n",
       "\n",
       "    .dataframe thead th {\n",
       "        text-align: right;\n",
       "    }\n",
       "</style>\n",
       "<table border=\"1\" class=\"dataframe\">\n",
       "  <thead>\n",
       "    <tr style=\"text-align: right;\">\n",
       "      <th></th>\n",
       "      <th>duration_sec</th>\n",
       "      <th>start_time</th>\n",
       "      <th>end_time</th>\n",
       "      <th>start_station_id</th>\n",
       "      <th>start_station_name</th>\n",
       "      <th>start_station_latitude</th>\n",
       "      <th>start_station_longitude</th>\n",
       "      <th>end_station_id</th>\n",
       "      <th>end_station_name</th>\n",
       "      <th>end_station_latitude</th>\n",
       "      <th>...</th>\n",
       "      <th>user_type</th>\n",
       "      <th>member_birth_year</th>\n",
       "      <th>member_gender</th>\n",
       "      <th>bike_share_for_all_trip</th>\n",
       "      <th>distance</th>\n",
       "      <th>member_age</th>\n",
       "      <th>month_of_year</th>\n",
       "      <th>day_of_week</th>\n",
       "      <th>hour</th>\n",
       "      <th>period_of_day</th>\n",
       "    </tr>\n",
       "  </thead>\n",
       "  <tbody>\n",
       "    <tr>\n",
       "      <th>437592</th>\n",
       "      <td>324</td>\n",
       "      <td>2018-06-29 08:42:30.458</td>\n",
       "      <td>2018-06-29 08:47:54.8900</td>\n",
       "      <td>16.0</td>\n",
       "      <td>Steuart St at Market St</td>\n",
       "      <td>37.794130</td>\n",
       "      <td>-122.394430</td>\n",
       "      <td>28.0</td>\n",
       "      <td>The Embarcadero at Bryant St</td>\n",
       "      <td>37.787168</td>\n",
       "      <td>...</td>\n",
       "      <td>Customer</td>\n",
       "      <td>1995.0</td>\n",
       "      <td>Female</td>\n",
       "      <td>No</td>\n",
       "      <td>0.953356</td>\n",
       "      <td>23.0</td>\n",
       "      <td>June</td>\n",
       "      <td>Friday</td>\n",
       "      <td>8</td>\n",
       "      <td>Morning</td>\n",
       "    </tr>\n",
       "    <tr>\n",
       "      <th>1482564</th>\n",
       "      <td>1573</td>\n",
       "      <td>2018-10-22 12:11:47.049</td>\n",
       "      <td>2018-10-22 12:38:00.1380</td>\n",
       "      <td>126.0</td>\n",
       "      <td>Esprit Park</td>\n",
       "      <td>37.761634</td>\n",
       "      <td>-122.390648</td>\n",
       "      <td>19.0</td>\n",
       "      <td>Post St at Kearny St</td>\n",
       "      <td>37.788975</td>\n",
       "      <td>...</td>\n",
       "      <td>Customer</td>\n",
       "      <td>1983.0</td>\n",
       "      <td>Male</td>\n",
       "      <td>No</td>\n",
       "      <td>3.241758</td>\n",
       "      <td>35.0</td>\n",
       "      <td>October</td>\n",
       "      <td>Monday</td>\n",
       "      <td>12</td>\n",
       "      <td>Afternoon</td>\n",
       "    </tr>\n",
       "    <tr>\n",
       "      <th>183312</th>\n",
       "      <td>2103</td>\n",
       "      <td>2018-11-09 23:50:11.592</td>\n",
       "      <td>2018-11-10 00:25:15.5790</td>\n",
       "      <td>41.0</td>\n",
       "      <td>Golden Gate Ave at Polk St</td>\n",
       "      <td>37.781270</td>\n",
       "      <td>-122.418740</td>\n",
       "      <td>58.0</td>\n",
       "      <td>Market St at 10th St</td>\n",
       "      <td>37.776619</td>\n",
       "      <td>...</td>\n",
       "      <td>Customer</td>\n",
       "      <td>NaN</td>\n",
       "      <td>NaN</td>\n",
       "      <td>No</td>\n",
       "      <td>0.530702</td>\n",
       "      <td>NaN</td>\n",
       "      <td>November</td>\n",
       "      <td>Friday</td>\n",
       "      <td>23</td>\n",
       "      <td>Late Night</td>\n",
       "    </tr>\n",
       "    <tr>\n",
       "      <th>879176</th>\n",
       "      <td>948</td>\n",
       "      <td>2018-12-12 16:40:18.227</td>\n",
       "      <td>2018-12-12 16:56:06.2770</td>\n",
       "      <td>58.0</td>\n",
       "      <td>Market St at 10th St</td>\n",
       "      <td>37.776619</td>\n",
       "      <td>-122.417385</td>\n",
       "      <td>126.0</td>\n",
       "      <td>Esprit Park</td>\n",
       "      <td>37.761634</td>\n",
       "      <td>...</td>\n",
       "      <td>Subscriber</td>\n",
       "      <td>1985.0</td>\n",
       "      <td>Male</td>\n",
       "      <td>No</td>\n",
       "      <td>2.880893</td>\n",
       "      <td>33.0</td>\n",
       "      <td>December</td>\n",
       "      <td>Wednesday</td>\n",
       "      <td>16</td>\n",
       "      <td>Evening</td>\n",
       "    </tr>\n",
       "    <tr>\n",
       "      <th>1254209</th>\n",
       "      <td>737</td>\n",
       "      <td>2018-08-28 07:57:18.615</td>\n",
       "      <td>2018-08-28 08:09:36.0360</td>\n",
       "      <td>67.0</td>\n",
       "      <td>San Francisco Caltrain Station 2  (Townsend St...</td>\n",
       "      <td>37.776639</td>\n",
       "      <td>-122.395526</td>\n",
       "      <td>9.0</td>\n",
       "      <td>Broadway at Battery St</td>\n",
       "      <td>37.798572</td>\n",
       "      <td>...</td>\n",
       "      <td>Subscriber</td>\n",
       "      <td>1984.0</td>\n",
       "      <td>Other</td>\n",
       "      <td>No</td>\n",
       "      <td>2.483611</td>\n",
       "      <td>34.0</td>\n",
       "      <td>August</td>\n",
       "      <td>Tuesday</td>\n",
       "      <td>7</td>\n",
       "      <td>Morning</td>\n",
       "    </tr>\n",
       "  </tbody>\n",
       "</table>\n",
       "<p>5 rows × 22 columns</p>\n",
       "</div>"
      ],
      "text/plain": [
       "         duration_sec               start_time                  end_time  \\\n",
       "437592            324  2018-06-29 08:42:30.458  2018-06-29 08:47:54.8900   \n",
       "1482564          1573  2018-10-22 12:11:47.049  2018-10-22 12:38:00.1380   \n",
       "183312           2103  2018-11-09 23:50:11.592  2018-11-10 00:25:15.5790   \n",
       "879176            948  2018-12-12 16:40:18.227  2018-12-12 16:56:06.2770   \n",
       "1254209           737  2018-08-28 07:57:18.615  2018-08-28 08:09:36.0360   \n",
       "\n",
       "         start_station_id                                 start_station_name  \\\n",
       "437592               16.0                            Steuart St at Market St   \n",
       "1482564             126.0                                        Esprit Park   \n",
       "183312               41.0                         Golden Gate Ave at Polk St   \n",
       "879176               58.0                               Market St at 10th St   \n",
       "1254209              67.0  San Francisco Caltrain Station 2  (Townsend St...   \n",
       "\n",
       "         start_station_latitude  start_station_longitude  end_station_id  \\\n",
       "437592                37.794130              -122.394430            28.0   \n",
       "1482564               37.761634              -122.390648            19.0   \n",
       "183312                37.781270              -122.418740            58.0   \n",
       "879176                37.776619              -122.417385           126.0   \n",
       "1254209               37.776639              -122.395526             9.0   \n",
       "\n",
       "                     end_station_name  end_station_latitude  ...   user_type  \\\n",
       "437592   The Embarcadero at Bryant St             37.787168  ...    Customer   \n",
       "1482564          Post St at Kearny St             37.788975  ...    Customer   \n",
       "183312           Market St at 10th St             37.776619  ...    Customer   \n",
       "879176                    Esprit Park             37.761634  ...  Subscriber   \n",
       "1254209        Broadway at Battery St             37.798572  ...  Subscriber   \n",
       "\n",
       "         member_birth_year member_gender  bike_share_for_all_trip  distance  \\\n",
       "437592              1995.0        Female                       No  0.953356   \n",
       "1482564             1983.0          Male                       No  3.241758   \n",
       "183312                 NaN           NaN                       No  0.530702   \n",
       "879176              1985.0          Male                       No  2.880893   \n",
       "1254209             1984.0         Other                       No  2.483611   \n",
       "\n",
       "        member_age  month_of_year  day_of_week hour period_of_day  \n",
       "437592        23.0           June       Friday    8       Morning  \n",
       "1482564       35.0        October       Monday   12     Afternoon  \n",
       "183312         NaN       November       Friday   23    Late Night  \n",
       "879176        33.0       December    Wednesday   16       Evening  \n",
       "1254209       34.0         August      Tuesday    7       Morning  \n",
       "\n",
       "[5 rows x 22 columns]"
      ]
     },
     "execution_count": 102,
     "metadata": {},
     "output_type": "execute_result"
    }
   ],
   "source": [
    "# Read the bike_data.csv file into a dataframe\n",
    "combined_bike_data = pd.read_csv('data/bike_data.csv')\n",
    "combined_bike_data.sample(5)"
   ]
  },
  {
   "attachments": {},
   "cell_type": "markdown",
   "metadata": {},
   "source": [
    "### What is the structure of your dataset?"
   ]
  },
  {
   "cell_type": "code",
   "execution_count": 103,
   "metadata": {},
   "outputs": [
    {
     "data": {
      "text/plain": [
       "(1863721, 22)"
      ]
     },
     "execution_count": 103,
     "metadata": {},
     "output_type": "execute_result"
    }
   ],
   "source": [
    "# Check the shape of the data\n",
    "combined_bike_data.shape"
   ]
  },
  {
   "cell_type": "code",
   "execution_count": 104,
   "metadata": {},
   "outputs": [
    {
     "name": "stdout",
     "output_type": "stream",
     "text": [
      "<class 'pandas.core.frame.DataFrame'>\n",
      "RangeIndex: 1863721 entries, 0 to 1863720\n",
      "Data columns (total 22 columns):\n",
      " #   Column                   Non-Null Count    Dtype  \n",
      "---  ------                   --------------    -----  \n",
      " 0   duration_sec             1863721 non-null  int64  \n",
      " 1   start_time               1863721 non-null  object \n",
      " 2   end_time                 1863721 non-null  object \n",
      " 3   start_station_id         1851950 non-null  float64\n",
      " 4   start_station_name       1851950 non-null  object \n",
      " 5   start_station_latitude   1863721 non-null  float64\n",
      " 6   start_station_longitude  1863721 non-null  float64\n",
      " 7   end_station_id           1851950 non-null  float64\n",
      " 8   end_station_name         1851950 non-null  object \n",
      " 9   end_station_latitude     1863721 non-null  float64\n",
      " 10  end_station_longitude    1863721 non-null  float64\n",
      " 11  bike_id                  1863721 non-null  int64  \n",
      " 12  user_type                1863721 non-null  object \n",
      " 13  member_birth_year        1753003 non-null  float64\n",
      " 14  member_gender            1753354 non-null  object \n",
      " 15  bike_share_for_all_trip  1863721 non-null  object \n",
      " 16  distance                 1863721 non-null  float64\n",
      " 17  member_age               1753003 non-null  float64\n",
      " 18  month_of_year            1863721 non-null  object \n",
      " 19  day_of_week              1863721 non-null  object \n",
      " 20  hour                     1863721 non-null  int64  \n",
      " 21  period_of_day            1863721 non-null  object \n",
      "dtypes: float64(9), int64(3), object(10)\n",
      "memory usage: 312.8+ MB\n"
     ]
    }
   ],
   "source": [
    "# Get general information about the dataframe, including the number of non-null values in each column\n",
    "combined_bike_data.info(verbose=True, show_counts=True)"
   ]
  },
  {
   "attachments": {},
   "cell_type": "markdown",
   "metadata": {},
   "source": [
    "> I have observed the following properties about the dataset:\n",
    "- The `start_time`, `end_time` are of object type, I will convert them to datetime type so it will be possible to perform analysis\n",
    "- The dataset contains some missing values in the `start_station_id`, `start_station_name`, `end_station_id`,  and `end_station_name` columns. I will drop the rows with missing values."
   ]
  },
  {
   "cell_type": "code",
   "execution_count": 105,
   "metadata": {},
   "outputs": [
    {
     "data": {
      "text/html": [
       "<div>\n",
       "<style scoped>\n",
       "    .dataframe tbody tr th:only-of-type {\n",
       "        vertical-align: middle;\n",
       "    }\n",
       "\n",
       "    .dataframe tbody tr th {\n",
       "        vertical-align: top;\n",
       "    }\n",
       "\n",
       "    .dataframe thead th {\n",
       "        text-align: right;\n",
       "    }\n",
       "</style>\n",
       "<table border=\"1\" class=\"dataframe\">\n",
       "  <thead>\n",
       "    <tr style=\"text-align: right;\">\n",
       "      <th></th>\n",
       "      <th>duration_sec</th>\n",
       "      <th>start_station_id</th>\n",
       "      <th>start_station_latitude</th>\n",
       "      <th>start_station_longitude</th>\n",
       "      <th>end_station_id</th>\n",
       "      <th>end_station_latitude</th>\n",
       "      <th>end_station_longitude</th>\n",
       "      <th>bike_id</th>\n",
       "      <th>member_birth_year</th>\n",
       "      <th>distance</th>\n",
       "      <th>member_age</th>\n",
       "      <th>hour</th>\n",
       "    </tr>\n",
       "  </thead>\n",
       "  <tbody>\n",
       "    <tr>\n",
       "      <th>count</th>\n",
       "      <td>1.863721e+06</td>\n",
       "      <td>1.851950e+06</td>\n",
       "      <td>1.863721e+06</td>\n",
       "      <td>1.863721e+06</td>\n",
       "      <td>1.851950e+06</td>\n",
       "      <td>1.863721e+06</td>\n",
       "      <td>1.863721e+06</td>\n",
       "      <td>1.863721e+06</td>\n",
       "      <td>1.753003e+06</td>\n",
       "      <td>1.863721e+06</td>\n",
       "      <td>1.753003e+06</td>\n",
       "      <td>1.863721e+06</td>\n",
       "    </tr>\n",
       "    <tr>\n",
       "      <th>mean</th>\n",
       "      <td>8.573026e+02</td>\n",
       "      <td>1.196744e+02</td>\n",
       "      <td>3.776678e+01</td>\n",
       "      <td>-1.223492e+02</td>\n",
       "      <td>1.181730e+02</td>\n",
       "      <td>3.776690e+01</td>\n",
       "      <td>-1.223487e+02</td>\n",
       "      <td>2.296851e+03</td>\n",
       "      <td>1.983088e+03</td>\n",
       "      <td>1.590931e+00</td>\n",
       "      <td>3.491204e+01</td>\n",
       "      <td>1.351437e+01</td>\n",
       "    </tr>\n",
       "    <tr>\n",
       "      <th>std</th>\n",
       "      <td>2.370379e+03</td>\n",
       "      <td>1.003976e+02</td>\n",
       "      <td>1.057689e-01</td>\n",
       "      <td>1.654634e-01</td>\n",
       "      <td>1.004403e+02</td>\n",
       "      <td>1.056483e-01</td>\n",
       "      <td>1.650597e-01</td>\n",
       "      <td>1.287733e+03</td>\n",
       "      <td>1.044289e+01</td>\n",
       "      <td>1.028364e+00</td>\n",
       "      <td>1.044289e+01</td>\n",
       "      <td>4.742223e+00</td>\n",
       "    </tr>\n",
       "    <tr>\n",
       "      <th>min</th>\n",
       "      <td>6.100000e+01</td>\n",
       "      <td>3.000000e+00</td>\n",
       "      <td>3.726331e+01</td>\n",
       "      <td>-1.224737e+02</td>\n",
       "      <td>3.000000e+00</td>\n",
       "      <td>3.726331e+01</td>\n",
       "      <td>-1.224737e+02</td>\n",
       "      <td>1.100000e+01</td>\n",
       "      <td>1.881000e+03</td>\n",
       "      <td>0.000000e+00</td>\n",
       "      <td>1.800000e+01</td>\n",
       "      <td>0.000000e+00</td>\n",
       "    </tr>\n",
       "    <tr>\n",
       "      <th>25%</th>\n",
       "      <td>3.500000e+02</td>\n",
       "      <td>3.300000e+01</td>\n",
       "      <td>3.777106e+01</td>\n",
       "      <td>-1.224114e+02</td>\n",
       "      <td>3.000000e+01</td>\n",
       "      <td>3.777106e+01</td>\n",
       "      <td>-1.224094e+02</td>\n",
       "      <td>1.225000e+03</td>\n",
       "      <td>1.978000e+03</td>\n",
       "      <td>8.675446e-01</td>\n",
       "      <td>2.700000e+01</td>\n",
       "      <td>9.000000e+00</td>\n",
       "    </tr>\n",
       "    <tr>\n",
       "      <th>50%</th>\n",
       "      <td>5.560000e+02</td>\n",
       "      <td>8.900000e+01</td>\n",
       "      <td>3.778107e+01</td>\n",
       "      <td>-1.223974e+02</td>\n",
       "      <td>8.800000e+01</td>\n",
       "      <td>3.778127e+01</td>\n",
       "      <td>-1.223971e+02</td>\n",
       "      <td>2.338000e+03</td>\n",
       "      <td>1.985000e+03</td>\n",
       "      <td>1.374592e+00</td>\n",
       "      <td>3.300000e+01</td>\n",
       "      <td>1.400000e+01</td>\n",
       "    </tr>\n",
       "    <tr>\n",
       "      <th>75%</th>\n",
       "      <td>8.720000e+02</td>\n",
       "      <td>1.860000e+02</td>\n",
       "      <td>3.779625e+01</td>\n",
       "      <td>-1.222865e+02</td>\n",
       "      <td>1.830000e+02</td>\n",
       "      <td>3.779728e+01</td>\n",
       "      <td>-1.222894e+02</td>\n",
       "      <td>3.333000e+03</td>\n",
       "      <td>1.991000e+03</td>\n",
       "      <td>2.087456e+00</td>\n",
       "      <td>4.000000e+01</td>\n",
       "      <td>1.700000e+01</td>\n",
       "    </tr>\n",
       "    <tr>\n",
       "      <th>max</th>\n",
       "      <td>8.636600e+04</td>\n",
       "      <td>3.810000e+02</td>\n",
       "      <td>4.551000e+01</td>\n",
       "      <td>-7.357000e+01</td>\n",
       "      <td>3.810000e+02</td>\n",
       "      <td>4.551000e+01</td>\n",
       "      <td>-7.357000e+01</td>\n",
       "      <td>6.234000e+03</td>\n",
       "      <td>2.000000e+03</td>\n",
       "      <td>6.530934e+01</td>\n",
       "      <td>1.370000e+02</td>\n",
       "      <td>2.300000e+01</td>\n",
       "    </tr>\n",
       "  </tbody>\n",
       "</table>\n",
       "</div>"
      ],
      "text/plain": [
       "       duration_sec  start_station_id  start_station_latitude  \\\n",
       "count  1.863721e+06      1.851950e+06            1.863721e+06   \n",
       "mean   8.573026e+02      1.196744e+02            3.776678e+01   \n",
       "std    2.370379e+03      1.003976e+02            1.057689e-01   \n",
       "min    6.100000e+01      3.000000e+00            3.726331e+01   \n",
       "25%    3.500000e+02      3.300000e+01            3.777106e+01   \n",
       "50%    5.560000e+02      8.900000e+01            3.778107e+01   \n",
       "75%    8.720000e+02      1.860000e+02            3.779625e+01   \n",
       "max    8.636600e+04      3.810000e+02            4.551000e+01   \n",
       "\n",
       "       start_station_longitude  end_station_id  end_station_latitude  \\\n",
       "count             1.863721e+06    1.851950e+06          1.863721e+06   \n",
       "mean             -1.223492e+02    1.181730e+02          3.776690e+01   \n",
       "std               1.654634e-01    1.004403e+02          1.056483e-01   \n",
       "min              -1.224737e+02    3.000000e+00          3.726331e+01   \n",
       "25%              -1.224114e+02    3.000000e+01          3.777106e+01   \n",
       "50%              -1.223974e+02    8.800000e+01          3.778127e+01   \n",
       "75%              -1.222865e+02    1.830000e+02          3.779728e+01   \n",
       "max              -7.357000e+01    3.810000e+02          4.551000e+01   \n",
       "\n",
       "       end_station_longitude       bike_id  member_birth_year      distance  \\\n",
       "count           1.863721e+06  1.863721e+06       1.753003e+06  1.863721e+06   \n",
       "mean           -1.223487e+02  2.296851e+03       1.983088e+03  1.590931e+00   \n",
       "std             1.650597e-01  1.287733e+03       1.044289e+01  1.028364e+00   \n",
       "min            -1.224737e+02  1.100000e+01       1.881000e+03  0.000000e+00   \n",
       "25%            -1.224094e+02  1.225000e+03       1.978000e+03  8.675446e-01   \n",
       "50%            -1.223971e+02  2.338000e+03       1.985000e+03  1.374592e+00   \n",
       "75%            -1.222894e+02  3.333000e+03       1.991000e+03  2.087456e+00   \n",
       "max            -7.357000e+01  6.234000e+03       2.000000e+03  6.530934e+01   \n",
       "\n",
       "         member_age          hour  \n",
       "count  1.753003e+06  1.863721e+06  \n",
       "mean   3.491204e+01  1.351437e+01  \n",
       "std    1.044289e+01  4.742223e+00  \n",
       "min    1.800000e+01  0.000000e+00  \n",
       "25%    2.700000e+01  9.000000e+00  \n",
       "50%    3.300000e+01  1.400000e+01  \n",
       "75%    4.000000e+01  1.700000e+01  \n",
       "max    1.370000e+02  2.300000e+01  "
      ]
     },
     "execution_count": 105,
     "metadata": {},
     "output_type": "execute_result"
    }
   ],
   "source": [
    "# View descriptive statistics for numeric variables\n",
    "combined_bike_data.describe()"
   ]
  },
  {
   "attachments": {},
   "cell_type": "markdown",
   "metadata": {},
   "source": [
    "> The dataset contains 1863721 rows and 16 columns. In the **data preparation** section, I added 6 more columns name `member_age`, `distance`, `hour`, `period_of_day`, `day_of_week` and `month_of_year`. The features are described above.\n",
    "> - **trip duration**: This includes columns for the duration of the bike ride in seconds, the date and time the bike ride started, and the date and time the bike ride ended.\n",
    "> - **start station**: This includes columns for the ID number of the station where the ride started, the name of the station where the ride started, and the latitude and longitude of the station where the ride started.\n",
    "> - **end station**: This includes columns for the ID number of the station where the ride ended, the name of the station where the ride ended, and the latitude and longitude of the station where the ride ended.\n",
    "> - **bike**: This includes columns for the ID number of the bike used in the ride.\n",
    "> - **customer data**: This includes information such as if the person who rented the bike was a customer or subscriber. It also states information of the person who rented such as date of birth, gender, age, and membership type."
   ]
  },
  {
   "attachments": {},
   "cell_type": "markdown",
   "metadata": {},
   "source": [
    "### What is/are the main feature(s) of interest in your dataset?\n",
    "> 1. Based on the Ford GoBike dataset, I can explore when and where most trips are taken as the dataset includes information on the start time and location of each ride. This information can help me identify popular starting points and times for the bike-sharing system. I will start by analyzing the `start_station_name`. I will then use `start_station_latitude` and `start_station_longitude` columns to calculate the distance of travel. Doing so, I will be able to get a better understanding of when and where the most trips originate.\n",
    "\n",
    "> 2. In addition to identifying popular starting points and times, I am also interested in exploring the characteristics of the riders such as age, sex, and user type. This can be done by analyzing the `member_birth_year`, `member_gender`, and `user_type` columns. Understanding the demographics of the riders can help me identify patterns in bike usage and preferences.\n",
    "\n",
    "> 3. I am also interested in exploring the time of the day, that is either **morning**, **afternoon**, **evening** or **night**.  Understanding the time of the day can help me identify patterns in bike usage and preferences. Moreover, I want to explore the day of the week and month of the year. Understanding the day of the week and month of the year can help me identify patterns in bike usage and preferences.\n",
    "\n",
    "> 4.  Finally, I plan to analyze the duration of the trips for each starting point and time. This information can help me understand how long riders typically use the bikes for and whether there are any patterns or trends in trip duration based on the starting location or time. Overall, I am looking forward to exploring this dataset and gaining insights into the usage patterns of the Ford GoBike system."
   ]
  },
  {
   "attachments": {},
   "cell_type": "markdown",
   "metadata": {},
   "source": [
    "### What features in the dataset do you think will help support your investigation into your feature(s) of interest?\n",
    "> To observe the points mentioned above, we can use the following features of the Ford GoBike dataset:\n",
    "> 1. To identify the popular starting points and times, we can use the start_time, start_station_id, start_station_name, start_station_latitude, and start_station_longitude columns.\n",
    "> 2. To explore the characteristics of the riders, we can use the member_birth_year, member_gender, and user_type columns.\n",
    "> 3. To explore the time of the day, the day of the week and month of the year, we can `hour`, `period_of_day`, `day_of_week`, `month_of_year` columns we extracted from the `start_time` column in our **data perparation phase**.\n",
    "> 4. To analyze the duration of the trips for each starting point and time, we can use the duration_sec column, as well as the start_time and start_station_id columns to match up each ride's duration with its starting point and time.\n",
    ">\n",
    "> By examining these features of the dataset, we can gain insights into when and where most trips are taken, the characteristics of the riders, and the duration of the trips for each starting point and time. These insights can help us understand usage patterns and preferences, and identify opportunities for improving the Ford GoBike system.\n",
    "\n",
    "> #### Expectations before univariate, bivariate, and multivariate exploration\n",
    "> 1. I expect that the most popular starting points and times will be in the morning and afternoon, and that the most popular starting points will be near the city center.\n",
    "> 2. I expect that young riders will be more that the older riders who are subscribers\n",
    "> 3. Comparing the subscribers and customers, I expect that the subscribers will be more than the customers.\n",
    "> 4. Concerning the genders, I expect that males will be more frequent riders than the female riders"
   ]
  },
  {
   "attachments": {},
   "cell_type": "markdown",
   "metadata": {},
   "source": [
    "## Data Wrangling"
   ]
  },
  {
   "attachments": {},
   "cell_type": "markdown",
   "metadata": {},
   "source": [
    "### Data Assessment"
   ]
  },
  {
   "cell_type": "code",
   "execution_count": 106,
   "metadata": {},
   "outputs": [
    {
     "data": {
      "text/html": [
       "<div>\n",
       "<style scoped>\n",
       "    .dataframe tbody tr th:only-of-type {\n",
       "        vertical-align: middle;\n",
       "    }\n",
       "\n",
       "    .dataframe tbody tr th {\n",
       "        vertical-align: top;\n",
       "    }\n",
       "\n",
       "    .dataframe thead th {\n",
       "        text-align: right;\n",
       "    }\n",
       "</style>\n",
       "<table border=\"1\" class=\"dataframe\">\n",
       "  <thead>\n",
       "    <tr style=\"text-align: right;\">\n",
       "      <th></th>\n",
       "      <th>duration_sec</th>\n",
       "      <th>start_time</th>\n",
       "      <th>end_time</th>\n",
       "      <th>start_station_id</th>\n",
       "      <th>start_station_name</th>\n",
       "      <th>start_station_latitude</th>\n",
       "      <th>start_station_longitude</th>\n",
       "      <th>end_station_id</th>\n",
       "      <th>end_station_name</th>\n",
       "      <th>end_station_latitude</th>\n",
       "      <th>...</th>\n",
       "      <th>user_type</th>\n",
       "      <th>member_birth_year</th>\n",
       "      <th>member_gender</th>\n",
       "      <th>bike_share_for_all_trip</th>\n",
       "      <th>distance</th>\n",
       "      <th>member_age</th>\n",
       "      <th>month_of_year</th>\n",
       "      <th>day_of_week</th>\n",
       "      <th>hour</th>\n",
       "      <th>period_of_day</th>\n",
       "    </tr>\n",
       "  </thead>\n",
       "  <tbody>\n",
       "    <tr>\n",
       "      <th>0</th>\n",
       "      <td>598</td>\n",
       "      <td>2018-02-28 23:59:47.097</td>\n",
       "      <td>2018-03-01 00:09:45.1870</td>\n",
       "      <td>284.0</td>\n",
       "      <td>Yerba Buena Center for the Arts (Howard St at ...</td>\n",
       "      <td>37.784872</td>\n",
       "      <td>-122.400876</td>\n",
       "      <td>114.0</td>\n",
       "      <td>Rhode Island St at 17th St</td>\n",
       "      <td>37.764478</td>\n",
       "      <td>...</td>\n",
       "      <td>Subscriber</td>\n",
       "      <td>1988.0</td>\n",
       "      <td>Male</td>\n",
       "      <td>No</td>\n",
       "      <td>2.272573</td>\n",
       "      <td>30.0</td>\n",
       "      <td>February</td>\n",
       "      <td>Wednesday</td>\n",
       "      <td>23</td>\n",
       "      <td>Late Night</td>\n",
       "    </tr>\n",
       "    <tr>\n",
       "      <th>1</th>\n",
       "      <td>943</td>\n",
       "      <td>2018-02-28 23:21:16.495</td>\n",
       "      <td>2018-02-28 23:36:59.9740</td>\n",
       "      <td>6.0</td>\n",
       "      <td>The Embarcadero at Sansome St</td>\n",
       "      <td>37.804770</td>\n",
       "      <td>-122.403234</td>\n",
       "      <td>324.0</td>\n",
       "      <td>Union Square (Powell St at Post St)</td>\n",
       "      <td>37.788300</td>\n",
       "      <td>...</td>\n",
       "      <td>Customer</td>\n",
       "      <td>1987.0</td>\n",
       "      <td>Male</td>\n",
       "      <td>No</td>\n",
       "      <td>1.889595</td>\n",
       "      <td>31.0</td>\n",
       "      <td>February</td>\n",
       "      <td>Wednesday</td>\n",
       "      <td>23</td>\n",
       "      <td>Late Night</td>\n",
       "    </tr>\n",
       "    <tr>\n",
       "      <th>2</th>\n",
       "      <td>18587</td>\n",
       "      <td>2018-02-28 18:20:55.190</td>\n",
       "      <td>2018-02-28 23:30:42.9250</td>\n",
       "      <td>93.0</td>\n",
       "      <td>4th St at Mission Bay Blvd S</td>\n",
       "      <td>37.770407</td>\n",
       "      <td>-122.391198</td>\n",
       "      <td>15.0</td>\n",
       "      <td>San Francisco Ferry Building (Harry Bridges Pl...</td>\n",
       "      <td>37.795392</td>\n",
       "      <td>...</td>\n",
       "      <td>Customer</td>\n",
       "      <td>1986.0</td>\n",
       "      <td>Female</td>\n",
       "      <td>No</td>\n",
       "      <td>2.790685</td>\n",
       "      <td>32.0</td>\n",
       "      <td>February</td>\n",
       "      <td>Wednesday</td>\n",
       "      <td>18</td>\n",
       "      <td>Night</td>\n",
       "    </tr>\n",
       "    <tr>\n",
       "      <th>3</th>\n",
       "      <td>18558</td>\n",
       "      <td>2018-02-28 18:20:53.621</td>\n",
       "      <td>2018-02-28 23:30:12.4500</td>\n",
       "      <td>93.0</td>\n",
       "      <td>4th St at Mission Bay Blvd S</td>\n",
       "      <td>37.770407</td>\n",
       "      <td>-122.391198</td>\n",
       "      <td>15.0</td>\n",
       "      <td>San Francisco Ferry Building (Harry Bridges Pl...</td>\n",
       "      <td>37.795392</td>\n",
       "      <td>...</td>\n",
       "      <td>Customer</td>\n",
       "      <td>1981.0</td>\n",
       "      <td>Male</td>\n",
       "      <td>No</td>\n",
       "      <td>2.790685</td>\n",
       "      <td>37.0</td>\n",
       "      <td>February</td>\n",
       "      <td>Wednesday</td>\n",
       "      <td>18</td>\n",
       "      <td>Night</td>\n",
       "    </tr>\n",
       "    <tr>\n",
       "      <th>4</th>\n",
       "      <td>885</td>\n",
       "      <td>2018-02-28 23:15:12.858</td>\n",
       "      <td>2018-02-28 23:29:58.6080</td>\n",
       "      <td>308.0</td>\n",
       "      <td>San Pedro Square</td>\n",
       "      <td>37.336802</td>\n",
       "      <td>-121.894090</td>\n",
       "      <td>297.0</td>\n",
       "      <td>Locust St at Grant St</td>\n",
       "      <td>37.322980</td>\n",
       "      <td>...</td>\n",
       "      <td>Subscriber</td>\n",
       "      <td>1976.0</td>\n",
       "      <td>Female</td>\n",
       "      <td>Yes</td>\n",
       "      <td>1.630600</td>\n",
       "      <td>42.0</td>\n",
       "      <td>February</td>\n",
       "      <td>Wednesday</td>\n",
       "      <td>23</td>\n",
       "      <td>Late Night</td>\n",
       "    </tr>\n",
       "  </tbody>\n",
       "</table>\n",
       "<p>5 rows × 22 columns</p>\n",
       "</div>"
      ],
      "text/plain": [
       "   duration_sec               start_time                  end_time  \\\n",
       "0           598  2018-02-28 23:59:47.097  2018-03-01 00:09:45.1870   \n",
       "1           943  2018-02-28 23:21:16.495  2018-02-28 23:36:59.9740   \n",
       "2         18587  2018-02-28 18:20:55.190  2018-02-28 23:30:42.9250   \n",
       "3         18558  2018-02-28 18:20:53.621  2018-02-28 23:30:12.4500   \n",
       "4           885  2018-02-28 23:15:12.858  2018-02-28 23:29:58.6080   \n",
       "\n",
       "   start_station_id                                 start_station_name  \\\n",
       "0             284.0  Yerba Buena Center for the Arts (Howard St at ...   \n",
       "1               6.0                      The Embarcadero at Sansome St   \n",
       "2              93.0                       4th St at Mission Bay Blvd S   \n",
       "3              93.0                       4th St at Mission Bay Blvd S   \n",
       "4             308.0                                   San Pedro Square   \n",
       "\n",
       "   start_station_latitude  start_station_longitude  end_station_id  \\\n",
       "0               37.784872              -122.400876           114.0   \n",
       "1               37.804770              -122.403234           324.0   \n",
       "2               37.770407              -122.391198            15.0   \n",
       "3               37.770407              -122.391198            15.0   \n",
       "4               37.336802              -121.894090           297.0   \n",
       "\n",
       "                                    end_station_name  end_station_latitude  \\\n",
       "0                         Rhode Island St at 17th St             37.764478   \n",
       "1                Union Square (Powell St at Post St)             37.788300   \n",
       "2  San Francisco Ferry Building (Harry Bridges Pl...             37.795392   \n",
       "3  San Francisco Ferry Building (Harry Bridges Pl...             37.795392   \n",
       "4                              Locust St at Grant St             37.322980   \n",
       "\n",
       "   ...   user_type  member_birth_year member_gender  bike_share_for_all_trip  \\\n",
       "0  ...  Subscriber             1988.0          Male                       No   \n",
       "1  ...    Customer             1987.0          Male                       No   \n",
       "2  ...    Customer             1986.0        Female                       No   \n",
       "3  ...    Customer             1981.0          Male                       No   \n",
       "4  ...  Subscriber             1976.0        Female                      Yes   \n",
       "\n",
       "   distance member_age  month_of_year  day_of_week hour period_of_day  \n",
       "0  2.272573       30.0       February    Wednesday   23    Late Night  \n",
       "1  1.889595       31.0       February    Wednesday   23    Late Night  \n",
       "2  2.790685       32.0       February    Wednesday   18         Night  \n",
       "3  2.790685       37.0       February    Wednesday   18         Night  \n",
       "4  1.630600       42.0       February    Wednesday   23    Late Night  \n",
       "\n",
       "[5 rows x 22 columns]"
      ]
     },
     "execution_count": 106,
     "metadata": {},
     "output_type": "execute_result"
    }
   ],
   "source": [
    "# Lets see the top 5 rows\n",
    "combined_bike_data.head()"
   ]
  },
  {
   "cell_type": "code",
   "execution_count": 107,
   "metadata": {},
   "outputs": [
    {
     "data": {
      "text/html": [
       "<div>\n",
       "<style scoped>\n",
       "    .dataframe tbody tr th:only-of-type {\n",
       "        vertical-align: middle;\n",
       "    }\n",
       "\n",
       "    .dataframe tbody tr th {\n",
       "        vertical-align: top;\n",
       "    }\n",
       "\n",
       "    .dataframe thead th {\n",
       "        text-align: right;\n",
       "    }\n",
       "</style>\n",
       "<table border=\"1\" class=\"dataframe\">\n",
       "  <thead>\n",
       "    <tr style=\"text-align: right;\">\n",
       "      <th></th>\n",
       "      <th>duration_sec</th>\n",
       "      <th>start_time</th>\n",
       "      <th>end_time</th>\n",
       "      <th>start_station_id</th>\n",
       "      <th>start_station_name</th>\n",
       "      <th>start_station_latitude</th>\n",
       "      <th>start_station_longitude</th>\n",
       "      <th>end_station_id</th>\n",
       "      <th>end_station_name</th>\n",
       "      <th>end_station_latitude</th>\n",
       "      <th>...</th>\n",
       "      <th>user_type</th>\n",
       "      <th>member_birth_year</th>\n",
       "      <th>member_gender</th>\n",
       "      <th>bike_share_for_all_trip</th>\n",
       "      <th>distance</th>\n",
       "      <th>member_age</th>\n",
       "      <th>month_of_year</th>\n",
       "      <th>day_of_week</th>\n",
       "      <th>hour</th>\n",
       "      <th>period_of_day</th>\n",
       "    </tr>\n",
       "  </thead>\n",
       "  <tbody>\n",
       "    <tr>\n",
       "      <th>1863716</th>\n",
       "      <td>887</td>\n",
       "      <td>2018-04-01 00:00:08.163</td>\n",
       "      <td>2018-04-01 00:14:55.5710</td>\n",
       "      <td>194.0</td>\n",
       "      <td>Lakeshore Ave at Trestle Glen Rd</td>\n",
       "      <td>37.811081</td>\n",
       "      <td>-122.243268</td>\n",
       "      <td>215.0</td>\n",
       "      <td>34th St at Telegraph Ave</td>\n",
       "      <td>37.822547</td>\n",
       "      <td>...</td>\n",
       "      <td>Subscriber</td>\n",
       "      <td>1988.0</td>\n",
       "      <td>Male</td>\n",
       "      <td>Yes</td>\n",
       "      <td>2.392783</td>\n",
       "      <td>30.0</td>\n",
       "      <td>April</td>\n",
       "      <td>Sunday</td>\n",
       "      <td>0</td>\n",
       "      <td>Midnight</td>\n",
       "    </tr>\n",
       "    <tr>\n",
       "      <th>1863717</th>\n",
       "      <td>387</td>\n",
       "      <td>2018-04-01 00:08:06.367</td>\n",
       "      <td>2018-04-01 00:14:33.9940</td>\n",
       "      <td>30.0</td>\n",
       "      <td>San Francisco Caltrain (Townsend St at 4th St)</td>\n",
       "      <td>37.776598</td>\n",
       "      <td>-122.395282</td>\n",
       "      <td>79.0</td>\n",
       "      <td>7th St at Brannan St</td>\n",
       "      <td>37.773492</td>\n",
       "      <td>...</td>\n",
       "      <td>Subscriber</td>\n",
       "      <td>1995.0</td>\n",
       "      <td>Female</td>\n",
       "      <td>No</td>\n",
       "      <td>0.814323</td>\n",
       "      <td>23.0</td>\n",
       "      <td>April</td>\n",
       "      <td>Sunday</td>\n",
       "      <td>0</td>\n",
       "      <td>Midnight</td>\n",
       "    </tr>\n",
       "    <tr>\n",
       "      <th>1863718</th>\n",
       "      <td>480</td>\n",
       "      <td>2018-04-01 00:06:21.281</td>\n",
       "      <td>2018-04-01 00:14:21.4600</td>\n",
       "      <td>44.0</td>\n",
       "      <td>Civic Center/UN Plaza BART Station (Market St ...</td>\n",
       "      <td>37.781074</td>\n",
       "      <td>-122.411738</td>\n",
       "      <td>21.0</td>\n",
       "      <td>Montgomery St BART Station (Market St at 2nd St)</td>\n",
       "      <td>37.789625</td>\n",
       "      <td>...</td>\n",
       "      <td>Customer</td>\n",
       "      <td>1984.0</td>\n",
       "      <td>Male</td>\n",
       "      <td>No</td>\n",
       "      <td>1.351422</td>\n",
       "      <td>34.0</td>\n",
       "      <td>April</td>\n",
       "      <td>Sunday</td>\n",
       "      <td>0</td>\n",
       "      <td>Midnight</td>\n",
       "    </tr>\n",
       "    <tr>\n",
       "      <th>1863719</th>\n",
       "      <td>503</td>\n",
       "      <td>2018-04-01 00:04:36.805</td>\n",
       "      <td>2018-04-01 00:13:00.1020</td>\n",
       "      <td>100.0</td>\n",
       "      <td>Bryant St at 15th St</td>\n",
       "      <td>37.767100</td>\n",
       "      <td>-122.410662</td>\n",
       "      <td>93.0</td>\n",
       "      <td>4th St at Mission Bay Blvd S</td>\n",
       "      <td>37.770407</td>\n",
       "      <td>...</td>\n",
       "      <td>Subscriber</td>\n",
       "      <td>1984.0</td>\n",
       "      <td>Female</td>\n",
       "      <td>No</td>\n",
       "      <td>1.749894</td>\n",
       "      <td>34.0</td>\n",
       "      <td>April</td>\n",
       "      <td>Sunday</td>\n",
       "      <td>0</td>\n",
       "      <td>Midnight</td>\n",
       "    </tr>\n",
       "    <tr>\n",
       "      <th>1863720</th>\n",
       "      <td>192</td>\n",
       "      <td>2018-04-01 00:02:03.827</td>\n",
       "      <td>2018-04-01 00:05:16.4430</td>\n",
       "      <td>176.0</td>\n",
       "      <td>MacArthur BART Station</td>\n",
       "      <td>37.828410</td>\n",
       "      <td>-122.266315</td>\n",
       "      <td>215.0</td>\n",
       "      <td>34th St at Telegraph Ave</td>\n",
       "      <td>37.822547</td>\n",
       "      <td>...</td>\n",
       "      <td>Customer</td>\n",
       "      <td>1984.0</td>\n",
       "      <td>Male</td>\n",
       "      <td>No</td>\n",
       "      <td>0.651878</td>\n",
       "      <td>34.0</td>\n",
       "      <td>April</td>\n",
       "      <td>Sunday</td>\n",
       "      <td>0</td>\n",
       "      <td>Midnight</td>\n",
       "    </tr>\n",
       "  </tbody>\n",
       "</table>\n",
       "<p>5 rows × 22 columns</p>\n",
       "</div>"
      ],
      "text/plain": [
       "         duration_sec               start_time                  end_time  \\\n",
       "1863716           887  2018-04-01 00:00:08.163  2018-04-01 00:14:55.5710   \n",
       "1863717           387  2018-04-01 00:08:06.367  2018-04-01 00:14:33.9940   \n",
       "1863718           480  2018-04-01 00:06:21.281  2018-04-01 00:14:21.4600   \n",
       "1863719           503  2018-04-01 00:04:36.805  2018-04-01 00:13:00.1020   \n",
       "1863720           192  2018-04-01 00:02:03.827  2018-04-01 00:05:16.4430   \n",
       "\n",
       "         start_station_id                                 start_station_name  \\\n",
       "1863716             194.0                   Lakeshore Ave at Trestle Glen Rd   \n",
       "1863717              30.0     San Francisco Caltrain (Townsend St at 4th St)   \n",
       "1863718              44.0  Civic Center/UN Plaza BART Station (Market St ...   \n",
       "1863719             100.0                               Bryant St at 15th St   \n",
       "1863720             176.0                             MacArthur BART Station   \n",
       "\n",
       "         start_station_latitude  start_station_longitude  end_station_id  \\\n",
       "1863716               37.811081              -122.243268           215.0   \n",
       "1863717               37.776598              -122.395282            79.0   \n",
       "1863718               37.781074              -122.411738            21.0   \n",
       "1863719               37.767100              -122.410662            93.0   \n",
       "1863720               37.828410              -122.266315           215.0   \n",
       "\n",
       "                                         end_station_name  \\\n",
       "1863716                          34th St at Telegraph Ave   \n",
       "1863717                              7th St at Brannan St   \n",
       "1863718  Montgomery St BART Station (Market St at 2nd St)   \n",
       "1863719                      4th St at Mission Bay Blvd S   \n",
       "1863720                          34th St at Telegraph Ave   \n",
       "\n",
       "         end_station_latitude  ...   user_type  member_birth_year  \\\n",
       "1863716             37.822547  ...  Subscriber             1988.0   \n",
       "1863717             37.773492  ...  Subscriber             1995.0   \n",
       "1863718             37.789625  ...    Customer             1984.0   \n",
       "1863719             37.770407  ...  Subscriber             1984.0   \n",
       "1863720             37.822547  ...    Customer             1984.0   \n",
       "\n",
       "        member_gender  bike_share_for_all_trip  distance member_age  \\\n",
       "1863716          Male                      Yes  2.392783       30.0   \n",
       "1863717        Female                       No  0.814323       23.0   \n",
       "1863718          Male                       No  1.351422       34.0   \n",
       "1863719        Female                       No  1.749894       34.0   \n",
       "1863720          Male                       No  0.651878       34.0   \n",
       "\n",
       "         month_of_year  day_of_week hour period_of_day  \n",
       "1863716          April       Sunday    0      Midnight  \n",
       "1863717          April       Sunday    0      Midnight  \n",
       "1863718          April       Sunday    0      Midnight  \n",
       "1863719          April       Sunday    0      Midnight  \n",
       "1863720          April       Sunday    0      Midnight  \n",
       "\n",
       "[5 rows x 22 columns]"
      ]
     },
     "execution_count": 107,
     "metadata": {},
     "output_type": "execute_result"
    }
   ],
   "source": [
    "# Lets see the last 10 columns\n",
    "combined_bike_data.tail(5)"
   ]
  },
  {
   "cell_type": "code",
   "execution_count": 108,
   "metadata": {},
   "outputs": [
    {
     "data": {
      "text/plain": [
       "duration_sec                 16709\n",
       "start_time                 1863584\n",
       "end_time                   1863610\n",
       "start_station_id               331\n",
       "start_station_name             348\n",
       "start_station_latitude         369\n",
       "start_station_longitude        370\n",
       "end_station_id                 331\n",
       "end_station_name               348\n",
       "end_station_latitude           370\n",
       "end_station_longitude          371\n",
       "bike_id                       5054\n",
       "user_type                        2\n",
       "member_birth_year               86\n",
       "member_gender                    3\n",
       "bike_share_for_all_trip          2\n",
       "distance                     19145\n",
       "member_age                      86\n",
       "month_of_year                   12\n",
       "day_of_week                      7\n",
       "hour                            24\n",
       "period_of_day                    7\n",
       "dtype: int64"
      ]
     },
     "execution_count": 108,
     "metadata": {},
     "output_type": "execute_result"
    }
   ],
   "source": [
    "# Lets see the number of unique values in each column\n",
    "combined_bike_data.nunique()"
   ]
  },
  {
   "cell_type": "code",
   "execution_count": 109,
   "metadata": {},
   "outputs": [
    {
     "data": {
      "text/plain": [
       "duration_sec                    0\n",
       "start_time                      0\n",
       "end_time                        0\n",
       "start_station_id            11771\n",
       "start_station_name          11771\n",
       "start_station_latitude          0\n",
       "start_station_longitude         0\n",
       "end_station_id              11771\n",
       "end_station_name            11771\n",
       "end_station_latitude            0\n",
       "end_station_longitude           0\n",
       "bike_id                         0\n",
       "user_type                       0\n",
       "member_birth_year          110718\n",
       "member_gender              110367\n",
       "bike_share_for_all_trip         0\n",
       "distance                        0\n",
       "member_age                 110718\n",
       "month_of_year                   0\n",
       "day_of_week                     0\n",
       "hour                            0\n",
       "period_of_day                   0\n",
       "dtype: int64"
      ]
     },
     "execution_count": 109,
     "metadata": {},
     "output_type": "execute_result"
    }
   ],
   "source": [
    "# Lets see the number of missing values in each column\n",
    "combined_bike_data.isnull().sum()"
   ]
  },
  {
   "cell_type": "code",
   "execution_count": 110,
   "metadata": {},
   "outputs": [
    {
     "data": {
      "text/plain": [
       "0"
      ]
     },
     "execution_count": 110,
     "metadata": {},
     "output_type": "execute_result"
    }
   ],
   "source": [
    "# Lets see the number of duplicated values in each column\n",
    "combined_bike_data.duplicated().sum()"
   ]
  },
  {
   "cell_type": "code",
   "execution_count": 111,
   "metadata": {},
   "outputs": [
    {
     "data": {
      "text/html": [
       "<div>\n",
       "<style scoped>\n",
       "    .dataframe tbody tr th:only-of-type {\n",
       "        vertical-align: middle;\n",
       "    }\n",
       "\n",
       "    .dataframe tbody tr th {\n",
       "        vertical-align: top;\n",
       "    }\n",
       "\n",
       "    .dataframe thead th {\n",
       "        text-align: right;\n",
       "    }\n",
       "</style>\n",
       "<table border=\"1\" class=\"dataframe\">\n",
       "  <thead>\n",
       "    <tr style=\"text-align: right;\">\n",
       "      <th></th>\n",
       "      <th>duration_sec</th>\n",
       "      <th>start_time</th>\n",
       "      <th>end_time</th>\n",
       "      <th>start_station_id</th>\n",
       "      <th>start_station_name</th>\n",
       "      <th>start_station_latitude</th>\n",
       "      <th>start_station_longitude</th>\n",
       "      <th>end_station_id</th>\n",
       "      <th>end_station_name</th>\n",
       "      <th>end_station_latitude</th>\n",
       "      <th>...</th>\n",
       "      <th>user_type</th>\n",
       "      <th>member_birth_year</th>\n",
       "      <th>member_gender</th>\n",
       "      <th>bike_share_for_all_trip</th>\n",
       "      <th>distance</th>\n",
       "      <th>member_age</th>\n",
       "      <th>month_of_year</th>\n",
       "      <th>day_of_week</th>\n",
       "      <th>hour</th>\n",
       "      <th>period_of_day</th>\n",
       "    </tr>\n",
       "  </thead>\n",
       "  <tbody>\n",
       "    <tr>\n",
       "      <th>514584</th>\n",
       "      <td>819</td>\n",
       "      <td>2018-06-18 11:32:11.150</td>\n",
       "      <td>2018-06-18 11:45:50.1860</td>\n",
       "      <td>86.0</td>\n",
       "      <td>Market St at Dolores St</td>\n",
       "      <td>37.769305</td>\n",
       "      <td>-122.426826</td>\n",
       "      <td>284.0</td>\n",
       "      <td>Yerba Buena Center for the Arts (Howard St at ...</td>\n",
       "      <td>37.784872</td>\n",
       "      <td>...</td>\n",
       "      <td>Subscriber</td>\n",
       "      <td>1969.0</td>\n",
       "      <td>Male</td>\n",
       "      <td>Yes</td>\n",
       "      <td>2.863178</td>\n",
       "      <td>49.0</td>\n",
       "      <td>June</td>\n",
       "      <td>Monday</td>\n",
       "      <td>11</td>\n",
       "      <td>Morning</td>\n",
       "    </tr>\n",
       "    <tr>\n",
       "      <th>1256930</th>\n",
       "      <td>465</td>\n",
       "      <td>2018-08-27 17:43:47.344</td>\n",
       "      <td>2018-08-27 17:51:33.0090</td>\n",
       "      <td>3.0</td>\n",
       "      <td>Powell St BART Station (Market St at 4th St)</td>\n",
       "      <td>37.786375</td>\n",
       "      <td>-122.404904</td>\n",
       "      <td>67.0</td>\n",
       "      <td>San Francisco Caltrain Station 2  (Townsend St...</td>\n",
       "      <td>37.776639</td>\n",
       "      <td>...</td>\n",
       "      <td>Subscriber</td>\n",
       "      <td>1986.0</td>\n",
       "      <td>Male</td>\n",
       "      <td>No</td>\n",
       "      <td>1.360623</td>\n",
       "      <td>32.0</td>\n",
       "      <td>August</td>\n",
       "      <td>Monday</td>\n",
       "      <td>17</td>\n",
       "      <td>Evening</td>\n",
       "    </tr>\n",
       "    <tr>\n",
       "      <th>264272</th>\n",
       "      <td>456</td>\n",
       "      <td>2018-09-27 06:45:15.917</td>\n",
       "      <td>2018-09-27 06:52:52.0770</td>\n",
       "      <td>215.0</td>\n",
       "      <td>34th St at Telegraph Ave</td>\n",
       "      <td>37.822547</td>\n",
       "      <td>-122.266318</td>\n",
       "      <td>182.0</td>\n",
       "      <td>19th Street BART Station</td>\n",
       "      <td>37.809013</td>\n",
       "      <td>...</td>\n",
       "      <td>Subscriber</td>\n",
       "      <td>1987.0</td>\n",
       "      <td>Female</td>\n",
       "      <td>No</td>\n",
       "      <td>1.514527</td>\n",
       "      <td>31.0</td>\n",
       "      <td>September</td>\n",
       "      <td>Thursday</td>\n",
       "      <td>6</td>\n",
       "      <td>Morning</td>\n",
       "    </tr>\n",
       "    <tr>\n",
       "      <th>744012</th>\n",
       "      <td>2444</td>\n",
       "      <td>2018-05-10 17:01:08.856</td>\n",
       "      <td>2018-05-10 17:41:52.9320</td>\n",
       "      <td>78.0</td>\n",
       "      <td>Folsom St at 9th St</td>\n",
       "      <td>37.773717</td>\n",
       "      <td>-122.411647</td>\n",
       "      <td>75.0</td>\n",
       "      <td>Market St at Franklin St</td>\n",
       "      <td>37.773793</td>\n",
       "      <td>...</td>\n",
       "      <td>Customer</td>\n",
       "      <td>1981.0</td>\n",
       "      <td>Female</td>\n",
       "      <td>No</td>\n",
       "      <td>0.843136</td>\n",
       "      <td>37.0</td>\n",
       "      <td>May</td>\n",
       "      <td>Thursday</td>\n",
       "      <td>17</td>\n",
       "      <td>Evening</td>\n",
       "    </tr>\n",
       "    <tr>\n",
       "      <th>1060202</th>\n",
       "      <td>414</td>\n",
       "      <td>2018-07-26 17:44:55.212</td>\n",
       "      <td>2018-07-26 17:51:49.7900</td>\n",
       "      <td>58.0</td>\n",
       "      <td>Market St at 10th St</td>\n",
       "      <td>37.776619</td>\n",
       "      <td>-122.417385</td>\n",
       "      <td>34.0</td>\n",
       "      <td>Father Alfred E Boeddeker Park</td>\n",
       "      <td>37.783988</td>\n",
       "      <td>...</td>\n",
       "      <td>Subscriber</td>\n",
       "      <td>1976.0</td>\n",
       "      <td>Male</td>\n",
       "      <td>Yes</td>\n",
       "      <td>0.928824</td>\n",
       "      <td>42.0</td>\n",
       "      <td>July</td>\n",
       "      <td>Thursday</td>\n",
       "      <td>17</td>\n",
       "      <td>Evening</td>\n",
       "    </tr>\n",
       "  </tbody>\n",
       "</table>\n",
       "<p>5 rows × 22 columns</p>\n",
       "</div>"
      ],
      "text/plain": [
       "         duration_sec               start_time                  end_time  \\\n",
       "514584            819  2018-06-18 11:32:11.150  2018-06-18 11:45:50.1860   \n",
       "1256930           465  2018-08-27 17:43:47.344  2018-08-27 17:51:33.0090   \n",
       "264272            456  2018-09-27 06:45:15.917  2018-09-27 06:52:52.0770   \n",
       "744012           2444  2018-05-10 17:01:08.856  2018-05-10 17:41:52.9320   \n",
       "1060202           414  2018-07-26 17:44:55.212  2018-07-26 17:51:49.7900   \n",
       "\n",
       "         start_station_id                            start_station_name  \\\n",
       "514584               86.0                       Market St at Dolores St   \n",
       "1256930               3.0  Powell St BART Station (Market St at 4th St)   \n",
       "264272              215.0                      34th St at Telegraph Ave   \n",
       "744012               78.0                           Folsom St at 9th St   \n",
       "1060202              58.0                          Market St at 10th St   \n",
       "\n",
       "         start_station_latitude  start_station_longitude  end_station_id  \\\n",
       "514584                37.769305              -122.426826           284.0   \n",
       "1256930               37.786375              -122.404904            67.0   \n",
       "264272                37.822547              -122.266318           182.0   \n",
       "744012                37.773717              -122.411647            75.0   \n",
       "1060202               37.776619              -122.417385            34.0   \n",
       "\n",
       "                                          end_station_name  \\\n",
       "514584   Yerba Buena Center for the Arts (Howard St at ...   \n",
       "1256930  San Francisco Caltrain Station 2  (Townsend St...   \n",
       "264272                            19th Street BART Station   \n",
       "744012                            Market St at Franklin St   \n",
       "1060202                     Father Alfred E Boeddeker Park   \n",
       "\n",
       "         end_station_latitude  ...   user_type  member_birth_year  \\\n",
       "514584              37.784872  ...  Subscriber             1969.0   \n",
       "1256930             37.776639  ...  Subscriber             1986.0   \n",
       "264272              37.809013  ...  Subscriber             1987.0   \n",
       "744012              37.773793  ...    Customer             1981.0   \n",
       "1060202             37.783988  ...  Subscriber             1976.0   \n",
       "\n",
       "        member_gender  bike_share_for_all_trip  distance member_age  \\\n",
       "514584           Male                      Yes  2.863178       49.0   \n",
       "1256930          Male                       No  1.360623       32.0   \n",
       "264272         Female                       No  1.514527       31.0   \n",
       "744012         Female                       No  0.843136       37.0   \n",
       "1060202          Male                      Yes  0.928824       42.0   \n",
       "\n",
       "         month_of_year  day_of_week hour period_of_day  \n",
       "514584            June       Monday   11       Morning  \n",
       "1256930         August       Monday   17       Evening  \n",
       "264272       September     Thursday    6       Morning  \n",
       "744012             May     Thursday   17       Evening  \n",
       "1060202           July     Thursday   17       Evening  \n",
       "\n",
       "[5 rows x 22 columns]"
      ]
     },
     "execution_count": 111,
     "metadata": {},
     "output_type": "execute_result"
    }
   ],
   "source": [
    "# Lets see a sample of the data frame 5 rows\n",
    "combined_bike_data.sample(5)"
   ]
  },
  {
   "cell_type": "code",
   "execution_count": 112,
   "metadata": {},
   "outputs": [
    {
     "name": "stdout",
     "output_type": "stream",
     "text": [
      "<class 'pandas.core.frame.DataFrame'>\n",
      "RangeIndex: 1863721 entries, 0 to 1863720\n",
      "Data columns (total 22 columns):\n",
      " #   Column                   Dtype  \n",
      "---  ------                   -----  \n",
      " 0   duration_sec             int64  \n",
      " 1   start_time               object \n",
      " 2   end_time                 object \n",
      " 3   start_station_id         float64\n",
      " 4   start_station_name       object \n",
      " 5   start_station_latitude   float64\n",
      " 6   start_station_longitude  float64\n",
      " 7   end_station_id           float64\n",
      " 8   end_station_name         object \n",
      " 9   end_station_latitude     float64\n",
      " 10  end_station_longitude    float64\n",
      " 11  bike_id                  int64  \n",
      " 12  user_type                object \n",
      " 13  member_birth_year        float64\n",
      " 14  member_gender            object \n",
      " 15  bike_share_for_all_trip  object \n",
      " 16  distance                 float64\n",
      " 17  member_age               float64\n",
      " 18  month_of_year            object \n",
      " 19  day_of_week              object \n",
      " 20  hour                     int64  \n",
      " 21  period_of_day            object \n",
      "dtypes: float64(9), int64(3), object(10)\n",
      "memory usage: 312.8+ MB\n"
     ]
    }
   ],
   "source": [
    "# Lets see the information of the data frame using info() and verbose=True\n",
    "combined_bike_data.info(verbose=True)"
   ]
  },
  {
   "attachments": {},
   "cell_type": "markdown",
   "metadata": {},
   "source": [
    "### Quality Issues\n",
    "> - The `start_time` and `end_time` are of object type\n",
    "> - The `user_type`, `bike_share_for_all_trip` and `member_gender` are of object type\n",
    "> - The `hour` is of int type\n",
    "> - The dataset contains some missing values in the `start_station_id`, `start_station_name`, `end_station_id`, `end_station_name`, `member_birth_year` and `member_gender` columns"
   ]
  },
  {
   "attachments": {},
   "cell_type": "markdown",
   "metadata": {},
   "source": [
    "### Make a copy of the original dataset"
   ]
  },
  {
   "cell_type": "code",
   "execution_count": 113,
   "metadata": {},
   "outputs": [],
   "source": [
    "# Make the copy of the data frame\n",
    "cc_bike_data = combined_bike_data.copy()"
   ]
  },
  {
   "cell_type": "code",
   "execution_count": 114,
   "metadata": {},
   "outputs": [
    {
     "data": {
      "text/plain": [
       "(1863721, 22)"
      ]
     },
     "execution_count": 114,
     "metadata": {},
     "output_type": "execute_result"
    }
   ],
   "source": [
    "cc_bike_data.shape"
   ]
  },
  {
   "attachments": {},
   "cell_type": "markdown",
   "metadata": {},
   "source": [
    "#### Define:\n",
    "**ISSUE 1:** Convert the `start_time` and `end_time` to datetime type"
   ]
  },
  {
   "attachments": {},
   "cell_type": "markdown",
   "metadata": {},
   "source": [
    "#### Code"
   ]
  },
  {
   "cell_type": "code",
   "execution_count": 115,
   "metadata": {},
   "outputs": [],
   "source": [
    "# Convert the `start_time` and `end_time` to datetime type\n",
    "cc_bike_data['start_time'] = pd.to_datetime(cc_bike_data['start_time'])\n",
    "cc_bike_data['end_time'] = pd.to_datetime(cc_bike_data['end_time'])"
   ]
  },
  {
   "attachments": {},
   "cell_type": "markdown",
   "metadata": {},
   "source": [
    "#### Test"
   ]
  },
  {
   "cell_type": "code",
   "execution_count": 116,
   "metadata": {},
   "outputs": [
    {
     "name": "stdout",
     "output_type": "stream",
     "text": [
      "<class 'pandas.core.frame.DataFrame'>\n",
      "RangeIndex: 1863721 entries, 0 to 1863720\n",
      "Data columns (total 22 columns):\n",
      " #   Column                   Non-Null Count    Dtype         \n",
      "---  ------                   --------------    -----         \n",
      " 0   duration_sec             1863721 non-null  int64         \n",
      " 1   start_time               1863721 non-null  datetime64[ns]\n",
      " 2   end_time                 1863721 non-null  datetime64[ns]\n",
      " 3   start_station_id         1851950 non-null  float64       \n",
      " 4   start_station_name       1851950 non-null  object        \n",
      " 5   start_station_latitude   1863721 non-null  float64       \n",
      " 6   start_station_longitude  1863721 non-null  float64       \n",
      " 7   end_station_id           1851950 non-null  float64       \n",
      " 8   end_station_name         1851950 non-null  object        \n",
      " 9   end_station_latitude     1863721 non-null  float64       \n",
      " 10  end_station_longitude    1863721 non-null  float64       \n",
      " 11  bike_id                  1863721 non-null  int64         \n",
      " 12  user_type                1863721 non-null  object        \n",
      " 13  member_birth_year        1753003 non-null  float64       \n",
      " 14  member_gender            1753354 non-null  object        \n",
      " 15  bike_share_for_all_trip  1863721 non-null  object        \n",
      " 16  distance                 1863721 non-null  float64       \n",
      " 17  member_age               1753003 non-null  float64       \n",
      " 18  month_of_year            1863721 non-null  object        \n",
      " 19  day_of_week              1863721 non-null  object        \n",
      " 20  hour                     1863721 non-null  int64         \n",
      " 21  period_of_day            1863721 non-null  object        \n",
      "dtypes: datetime64[ns](2), float64(9), int64(3), object(8)\n",
      "memory usage: 312.8+ MB\n"
     ]
    }
   ],
   "source": [
    "# Test the conversion using info() with verbose=True and show_counts=True\n",
    "cc_bike_data.info(verbose=True, show_counts=True)"
   ]
  },
  {
   "attachments": {},
   "cell_type": "markdown",
   "metadata": {},
   "source": [
    "#### Define\n",
    "**ISSUE 2:** Convert the `user_type`, `bike_share_for_all_trip` and `member_gender` to category type"
   ]
  },
  {
   "attachments": {},
   "cell_type": "markdown",
   "metadata": {},
   "source": [
    "#### Code"
   ]
  },
  {
   "cell_type": "code",
   "execution_count": 117,
   "metadata": {},
   "outputs": [],
   "source": [
    "# Convert the `user_type`, `bike_share_for_all_trip` and `member_gender` to category type\n",
    "cc_bike_data.user_type = cc_bike_data.user_type.astype('category')\n",
    "cc_bike_data.bike_share_for_all_trip = cc_bike_data.bike_share_for_all_trip.astype('category')\n",
    "cc_bike_data.member_gender = cc_bike_data.member_gender.astype('category')"
   ]
  },
  {
   "attachments": {},
   "cell_type": "markdown",
   "metadata": {},
   "source": [
    "#### Test"
   ]
  },
  {
   "cell_type": "code",
   "execution_count": 118,
   "metadata": {},
   "outputs": [
    {
     "name": "stdout",
     "output_type": "stream",
     "text": [
      "<class 'pandas.core.frame.DataFrame'>\n",
      "RangeIndex: 1863721 entries, 0 to 1863720\n",
      "Data columns (total 22 columns):\n",
      " #   Column                   Non-Null Count    Dtype         \n",
      "---  ------                   --------------    -----         \n",
      " 0   duration_sec             1863721 non-null  int64         \n",
      " 1   start_time               1863721 non-null  datetime64[ns]\n",
      " 2   end_time                 1863721 non-null  datetime64[ns]\n",
      " 3   start_station_id         1851950 non-null  float64       \n",
      " 4   start_station_name       1851950 non-null  object        \n",
      " 5   start_station_latitude   1863721 non-null  float64       \n",
      " 6   start_station_longitude  1863721 non-null  float64       \n",
      " 7   end_station_id           1851950 non-null  float64       \n",
      " 8   end_station_name         1851950 non-null  object        \n",
      " 9   end_station_latitude     1863721 non-null  float64       \n",
      " 10  end_station_longitude    1863721 non-null  float64       \n",
      " 11  bike_id                  1863721 non-null  int64         \n",
      " 12  user_type                1863721 non-null  category      \n",
      " 13  member_birth_year        1753003 non-null  float64       \n",
      " 14  member_gender            1753354 non-null  category      \n",
      " 15  bike_share_for_all_trip  1863721 non-null  category      \n",
      " 16  distance                 1863721 non-null  float64       \n",
      " 17  member_age               1753003 non-null  float64       \n",
      " 18  month_of_year            1863721 non-null  object        \n",
      " 19  day_of_week              1863721 non-null  object        \n",
      " 20  hour                     1863721 non-null  int64         \n",
      " 21  period_of_day            1863721 non-null  object        \n",
      "dtypes: category(3), datetime64[ns](2), float64(9), int64(3), object(5)\n",
      "memory usage: 275.5+ MB\n"
     ]
    }
   ],
   "source": [
    "# Test the conversion using info() with verbose=True and show_counts=True\n",
    "cc_bike_data.info(verbose=True, show_counts=True)"
   ]
  },
  {
   "attachments": {},
   "cell_type": "markdown",
   "metadata": {},
   "source": [
    "#### Define\n",
    "**ISSUE 3:** Convert the `hour` to object type"
   ]
  },
  {
   "attachments": {},
   "cell_type": "markdown",
   "metadata": {},
   "source": [
    "#### Code"
   ]
  },
  {
   "cell_type": "code",
   "execution_count": 119,
   "metadata": {},
   "outputs": [],
   "source": [
    "# Convert `hour` to category type\n",
    "cc_bike_data.hour = cc_bike_data.hour.astype('object')"
   ]
  },
  {
   "attachments": {},
   "cell_type": "markdown",
   "metadata": {},
   "source": [
    "#### Test"
   ]
  },
  {
   "cell_type": "code",
   "execution_count": 120,
   "metadata": {},
   "outputs": [
    {
     "name": "stdout",
     "output_type": "stream",
     "text": [
      "<class 'pandas.core.frame.DataFrame'>\n",
      "RangeIndex: 1863721 entries, 0 to 1863720\n",
      "Data columns (total 22 columns):\n",
      " #   Column                   Non-Null Count    Dtype         \n",
      "---  ------                   --------------    -----         \n",
      " 0   duration_sec             1863721 non-null  int64         \n",
      " 1   start_time               1863721 non-null  datetime64[ns]\n",
      " 2   end_time                 1863721 non-null  datetime64[ns]\n",
      " 3   start_station_id         1851950 non-null  float64       \n",
      " 4   start_station_name       1851950 non-null  object        \n",
      " 5   start_station_latitude   1863721 non-null  float64       \n",
      " 6   start_station_longitude  1863721 non-null  float64       \n",
      " 7   end_station_id           1851950 non-null  float64       \n",
      " 8   end_station_name         1851950 non-null  object        \n",
      " 9   end_station_latitude     1863721 non-null  float64       \n",
      " 10  end_station_longitude    1863721 non-null  float64       \n",
      " 11  bike_id                  1863721 non-null  int64         \n",
      " 12  user_type                1863721 non-null  category      \n",
      " 13  member_birth_year        1753003 non-null  float64       \n",
      " 14  member_gender            1753354 non-null  category      \n",
      " 15  bike_share_for_all_trip  1863721 non-null  category      \n",
      " 16  distance                 1863721 non-null  float64       \n",
      " 17  member_age               1753003 non-null  float64       \n",
      " 18  month_of_year            1863721 non-null  object        \n",
      " 19  day_of_week              1863721 non-null  object        \n",
      " 20  hour                     1863721 non-null  object        \n",
      " 21  period_of_day            1863721 non-null  object        \n",
      "dtypes: category(3), datetime64[ns](2), float64(9), int64(2), object(6)\n",
      "memory usage: 275.5+ MB\n"
     ]
    }
   ],
   "source": [
    "# Test the conversion using info() with verbose=True and show_counts=True\n",
    "cc_bike_data.info(verbose=True, show_counts=True)"
   ]
  },
  {
   "attachments": {},
   "cell_type": "markdown",
   "metadata": {},
   "source": [
    "#### Define\n",
    "**ISSUE 4:** Remove rows where the `start_station_id`, `start_station_name`, `end_station_id`, `end_station_name` have missing values"
   ]
  },
  {
   "attachments": {},
   "cell_type": "markdown",
   "metadata": {},
   "source": [
    "#### Code"
   ]
  },
  {
   "cell_type": "code",
   "execution_count": 121,
   "metadata": {},
   "outputs": [],
   "source": [
    "# Remove the rows with missing values in column `start_station_id`, `start_station_name`, `end_station_id`, `end_station_name`\n",
    "cc_bike_data.dropna(subset=['start_station_id', 'start_station_name', 'end_station_id', 'end_station_name'], inplace=True)"
   ]
  },
  {
   "attachments": {},
   "cell_type": "markdown",
   "metadata": {},
   "source": [
    "#### Test"
   ]
  },
  {
   "cell_type": "code",
   "execution_count": 122,
   "metadata": {},
   "outputs": [
    {
     "data": {
      "text/plain": [
       "duration_sec                    0\n",
       "start_time                      0\n",
       "end_time                        0\n",
       "start_station_id                0\n",
       "start_station_name              0\n",
       "start_station_latitude          0\n",
       "start_station_longitude         0\n",
       "end_station_id                  0\n",
       "end_station_name                0\n",
       "end_station_latitude            0\n",
       "end_station_longitude           0\n",
       "bike_id                         0\n",
       "user_type                       0\n",
       "member_birth_year          110394\n",
       "member_gender              110043\n",
       "bike_share_for_all_trip         0\n",
       "distance                        0\n",
       "member_age                 110394\n",
       "month_of_year                   0\n",
       "day_of_week                     0\n",
       "hour                            0\n",
       "period_of_day                   0\n",
       "dtype: int64"
      ]
     },
     "execution_count": 122,
     "metadata": {},
     "output_type": "execute_result"
    }
   ],
   "source": [
    "# Test if the rows with missing values in column `start_station_id`, `start_station_name`, `end_station_id`, `end_station_name` are removed\n",
    "cc_bike_data.isnull().sum()"
   ]
  },
  {
   "attachments": {},
   "cell_type": "markdown",
   "metadata": {},
   "source": [
    "### Creating an ordered categorical type for the `period_of_day` column, `day_of_week` column and `month_of_year` column      "
   ]
  },
  {
   "attachments": {},
   "cell_type": "markdown",
   "metadata": {},
   "source": [
    "> The `period_of_day` column will contain the values which are ordered from **Midnight** ➝ **Early Morning** ➝ **Morning** ➝ **Afternoon** ➝ **Evening** ➝ **Night** ➝ **Late Night**\n",
    "\n",
    "> The `day_of_week` column will contain the values which are ordered from **Monday** ➝ **Tuesday** ➝ **Wednesday** ➝ **Thursday** ➝ **Friday** ➝ **Saturday** ➝ **Sunday**\n",
    "\n",
    "> The `month_of_year` column will contain the values which are ordered from **January** ➝ **February** ➝ **March** ➝ **April** ➝ **May** ➝ **June** ➝ **July** ➝ **August** ➝ **September** ➝ **October** ➝ **November** ➝ **December**"
   ]
  },
  {
   "cell_type": "code",
   "execution_count": 124,
   "metadata": {},
   "outputs": [],
   "source": [
    "# Convert the period_of_day, day_of_week_name and start_time_month to ordered categorical types\n",
    "ordinal_var_dict = {'period_of_day': ['Midnight', 'Early Morning', 'Morning', 'Afternoon', 'Evening', 'Night', \n",
    "                                          'Late Night'],\n",
    "                    'day_of_week': ['Monday', 'Tuesday', 'Wednesday', 'Thursday', 'Friday', 'Saturday', 'Sunday'],\n",
    "                    'month_of_year': ['January', 'February', 'March', 'April', 'May', 'June', 'July', 'August', 'September',\n",
    "                                         'October', 'November', 'December'],\n",
    "                    }\n",
    "for var in ordinal_var_dict:\n",
    "    ordered_var = pd.api.types.CategoricalDtype(ordered=True, categories=ordinal_var_dict[var])\n",
    "    cc_bike_data[var] = cc_bike_data[var].astype(ordered_var)"
   ]
  },
  {
   "cell_type": "code",
   "execution_count": 125,
   "metadata": {},
   "outputs": [
    {
     "data": {
      "text/plain": [
       "October      200102\n",
       "July         196038\n",
       "June         193907\n",
       "August       189250\n",
       "September    184635\n",
       "May          179125\n",
       "November     133651\n",
       "December     131171\n",
       "April        131169\n",
       "March        111382\n",
       "February     106718\n",
       "January       94802\n",
       "Name: month_of_year, dtype: int64"
      ]
     },
     "execution_count": 125,
     "metadata": {},
     "output_type": "execute_result"
    }
   ],
   "source": [
    "# value count of month_of_year\n",
    "cc_bike_data.month_of_year.value_counts()"
   ]
  },
  {
   "attachments": {},
   "cell_type": "markdown",
   "metadata": {},
   "source": [
    "## Univariate Exploration\n",
    "\n",
    "> In this section, investigate distributions of individual variables. If you see unusual points or outliers, take a deeper look to clean things up and prepare yourself to look at relationships between variables."
   ]
  },
  {
   "attachments": {},
   "cell_type": "markdown",
   "metadata": {},
   "source": [
    "#### 1. What is the distribution of the age of the users?"
   ]
  },
  {
   "cell_type": "code",
   "execution_count": 126,
   "metadata": {},
   "outputs": [
    {
     "data": {
      "image/png": "[encoded data removed]",
      "text/plain": [
       "<Figure size 2000x800 with 1 Axes>"
      ]
     },
     "metadata": {},
     "output_type": "display_data"
    }
   ],
   "source": [
    "def plot_histogram(column, title, x_label, binsize=2, y_label='Count'):\n",
    "    # Use max() to get the size of bins\n",
    "    binsize = 2\n",
    "    bins = np.arange(0, cc_bike_data[column].max()+binsize, binsize)\n",
    "    # Find the distribution of the `member_age` using a histogram\n",
    "    plt.figure(figsize=[20, 8])\n",
    "    plt.hist(data=cc_bike_data, x='member_age', bins=bins)\n",
    "    plt.xlabel(x_label)\n",
    "    plt.ylabel(y_label)\n",
    "    plt.title(title);\n",
    "\n",
    "plot_histogram('member_age', 'Distribution of Member Age', 'Member Age (years)')"
   ]
  },
  {
   "attachments": {},
   "cell_type": "markdown",
   "metadata": {},
   "source": [
    "> The graph above shows that most riders are between 25 and 40 years old. The distribution is right-skewed, which means that the majority of the riders are young. The distribution is also unimodal, which means that there is one peak in the distribution.\n",
    "\n",
    "> The distribution looks like it contains outliers, which are values that are far from the majority of the data. To confirm this, \n",
    "\n",
    "lets look at the summary statistics of the `member_age` column. We will also look at the boxplot of the `member_age` column."
   ]
  },
  {
   "cell_type": "code",
   "execution_count": 127,
   "metadata": {},
   "outputs": [
    {
     "data": {
      "image/png": "[encoded data removed]",
      "text/plain": [
       "<Figure size 2000x800 with 1 Axes>"
      ]
     },
     "metadata": {},
     "output_type": "display_data"
    }
   ],
   "source": [
    "# Plot the distribution of the `member_age` using a boxplot\n",
    "def plot_boxplot(column, title, x_label, y_label='Count'):\n",
    "    # Find the distribution of the `member_age` using a boxplot.\n",
    "    plt.figure(figsize=[20, 8])\n",
    "    sb.boxplot(data=cc_bike_data, x=column)\n",
    "    plt.xlabel(x_label)\n",
    "    plt.ylabel(y_label)\n",
    "    plt.title(title);\n",
    "\n",
    "plot_boxplot('member_age', 'Distribution of Member Age', 'Member Age (years)')"
   ]
  },
  {
   "attachments": {},
   "cell_type": "markdown",
   "metadata": {},
   "source": [
    "> Based on the box plot above, we can see that the outliers are from the age of 60 and above."
   ]
  },
  {
   "cell_type": "code",
   "execution_count": 128,
   "metadata": {},
   "outputs": [
    {
     "data": {
      "text/plain": [
       "0.8865250141742488"
      ]
     },
     "execution_count": 128,
     "metadata": {},
     "output_type": "execute_result"
    }
   ],
   "source": [
    "cc_bike_data.query('member_age > 65').shape[0]/ cc_bike_data.shape[0] * 100"
   ]
  },
  {
   "attachments": {},
   "cell_type": "markdown",
   "metadata": {},
   "source": [
    "> 99% of the riders are between 18 and 65 years old. We will treate any age above 65 as an outlier. We will remove these outliers from the dataset."
   ]
  },
  {
   "cell_type": "code",
   "execution_count": 129,
   "metadata": {},
   "outputs": [],
   "source": [
    "# Select the riders where age is below 60. Assign the result to `cc_bike_data_age`\n",
    "cc_bike_data = cc_bike_data.query('member_age <= 65')"
   ]
  },
  {
   "cell_type": "code",
   "execution_count": 130,
   "metadata": {},
   "outputs": [
    {
     "data": {
      "image/png": "[encoded data removed]",
      "text/plain": [
       "<Figure size 2000x800 with 1 Axes>"
      ]
     },
     "metadata": {},
     "output_type": "display_data"
    }
   ],
   "source": [
    "# Find the distribution of the `member_age` using a histogram\n",
    "plot_histogram('member_age', 'Distribution of Member Below 65 Years', 'Member Age (years)')"
   ]
  },
  {
   "attachments": {},
   "cell_type": "markdown",
   "metadata": {},
   "source": [
    "In the bivariate exploration, we will explore if the age of the riders has an effect on the distance the riders travel."
   ]
  },
  {
   "cell_type": "code",
   "execution_count": 131,
   "metadata": {},
   "outputs": [
    {
     "data": {
      "image/png": "[encoded data removed]",
      "text/plain": [
       "<Figure size 2000x800 with 1 Axes>"
      ]
     },
     "metadata": {},
     "output_type": "display_data"
    }
   ],
   "source": [
    "# Plot the distribution of the `member_age` using a boxplot\n",
    "plot_boxplot('member_age', 'Distribution of Member Below 65 Years', 'Member Age (years)')"
   ]
  },
  {
   "attachments": {},
   "cell_type": "markdown",
   "metadata": {},
   "source": [
    "Lets perform a cut to get age-group of the users"
   ]
  },
  {
   "cell_type": "code",
   "execution_count": 132,
   "metadata": {},
   "outputs": [],
   "source": [
    "# Perform a cut to divide the `member_age` into 5 bins\n",
    "cc_bike_data['member_age_group'] = pd.cut(cc_bike_data['member_age'], bins=[0, 20, 30, 40, 50, 60, 70],\n",
    "                                            labels=['0-20', '20-30', '30-40', '40-50', '50-60', '60 and above'])"
   ]
  },
  {
   "cell_type": "code",
   "execution_count": 133,
   "metadata": {},
   "outputs": [
    {
     "data": {
      "image/png": "[encoded data removed]",
      "text/plain": [
       "<Figure size 2000x800 with 1 Axes>"
      ]
     },
     "metadata": {},
     "output_type": "display_data"
    }
   ],
   "source": [
    "# Plot the distribution of the `member_age_group` using a bar chart\n",
    "plt.figure(figsize=[20, 8])\n",
    "sb.countplot(data=cc_bike_data, x='member_age_group', color=base_color)\n",
    "plt.xlabel('Member Age Group (years)')\n",
    "plt.ylabel('Count of Members in Age Group')\n",
    "plt.title('Distribution of Member Age');"
   ]
  },
  {
   "attachments": {},
   "cell_type": "markdown",
   "metadata": {},
   "source": [
    "> Based on the histogram I created, it seems that the age of the riders in the Ford GoBike dataset ranges from about 18 to 60 years old. I can see that the median age is around 34 years old, and the majority of riders fall between the ages of 27 to 40 years old (the upper quartile). The lower quartile ranges from around 24 to 31 years old.\n",
    "\n",
    "> Using the cut function, I created a new column called `member_age_group` to categorize the riders into five age groups: `0-20`, `20-30`, `30-40`, `40-50`, `50-60` and `60 and above`. The majority of riders fall into the `20-30` age group, which is consistent with the histogram above.\n",
    "\n",
    "> Interestingly, I also noticed that there are several outliers above the upper quartile, indicating that there are a significant number of older riders who are using the bike share system. This suggests that there may be a group of older riders who are using the system for transportation, recreation, or exercise.\n",
    "\n",
    "> However, it's important to note that my analysis is based on the assumptions made from the histogram, and further investigation and analysis may be needed to fully understand the characteristics and behaviors of the riders in the dataset. It's also crucial to consider potential biases in the dataset and to be careful about generalizing these findings to other populations or contexts. **We will explore the the relationship between distribution of (`user_type` and `member_age_group`) and (`user_type` and `member_age_group`)** to understand the demography of riders in age groups."
   ]
  },
  {
   "attachments": {},
   "cell_type": "markdown",
   "metadata": {},
   "source": [
    "### **Save the cleaned datasetfor the Part_II_slide_deck.ipynb**"
   ]
  },
  {
   "cell_type": "code",
   "execution_count": 134,
   "metadata": {},
   "outputs": [],
   "source": [
    "cc_bike_data.to_csv('data/part_II_bike_data.csv', index=False)"
   ]
  },
  {
   "attachments": {},
   "cell_type": "markdown",
   "metadata": {},
   "source": [
    "#### 2. What are top 10 starting points for the bike-sharing system?"
   ]
  },
  {
   "cell_type": "code",
   "execution_count": 135,
   "metadata": {},
   "outputs": [
    {
     "data": {
      "image/png": "[encoded data removed]",
      "text/plain": [
       "<Figure size 2000x800 with 1 Axes>"
      ]
     },
     "metadata": {},
     "output_type": "display_data"
    }
   ],
   "source": [
    "# plot the top 10 start stations\n",
    "plt.figure(figsize=(20, 8))\n",
    "sb.countplot(data=cc_bike_data, y='start_station_name', order=cc_bike_data.start_station_name.value_counts().head(10).index, color=base_color)\n",
    "plt.title('Top 10 Start Stations')\n",
    "plt.xlabel('Count of Trips Started')\n",
    "plt.ylabel('Start Station Name');"
   ]
  },
  {
   "attachments": {},
   "cell_type": "markdown",
   "metadata": {},
   "source": [
    "> We can see that the most popular starting points are **San Francisco Caltrain Station 2 (Townsend St at 4th St)**, **Market St at 10th St** and **San Francisco Caltrain (Townsend St at 4th St)**. These locations may be hubs for transportation, such as train and bus stations, making them convenient and easily accessible starting points for people commuting to work or other destinations.\n",
    "\n",
    "> To understand the demography of riders in these top 10 starting points, we will explore the user type (`user_type` and gender `member_gender`) using the bike-sharing system in top 10 starting points."
   ]
  },
  {
   "attachments": {},
   "cell_type": "markdown",
   "metadata": {},
   "source": [
    "#### 3. When are most trips taken in terms of time of day (`period_of_day`)"
   ]
  },
  {
   "cell_type": "code",
   "execution_count": 136,
   "metadata": {},
   "outputs": [
    {
     "data": {
      "image/png": "[encoded data removed]",
      "text/plain": [
       "<Figure size 2000x800 with 1 Axes>"
      ]
     },
     "metadata": {},
     "output_type": "display_data"
    }
   ],
   "source": [
    "# Plot the distribution of the `period_of_day` using a countplot\n",
    "def plot_countplot(column, title, x_label, y_label='Count'):\n",
    "    plt.figure(figsize=[20, 8])\n",
    "    sb.countplot(data=cc_bike_data, x=column, color=base_color)\n",
    "    plt.xlabel(x_label)\n",
    "    plt.ylabel(y_label)\n",
    "    plt.title(title);\n",
    "\n",
    "plot_countplot('period_of_day', 'Distribution of Period of Day', 'Period of Day')"
   ]
  },
  {
   "attachments": {},
   "cell_type": "markdown",
   "metadata": {},
   "source": [
    "> The graph above shows that a large number of rides are taken during the morning and evening hours. Specifically, the 'Morning' period (between 6-11 AM) and 'Evening' period have the highest number of rides, while the 'Midnight' period (between 12AM-3AM) has the lowest number of rides.\n",
    "\n",
    "> This observation suggests that the bike share system is being heavily used by individuals who are commuting to and from work or school during peak morning and evening hours.\n",
    "\n",
    "> However, it's important to note that this analysis is based on the assumptions made from the 'period_of_day' column and that further investigation may be needed to fully understand the reasons behind this pattern. Factors such as weather, local events, and user demographics may also play a role in the trends observed."
   ]
  },
  {
   "cell_type": "code",
   "execution_count": 137,
   "metadata": {},
   "outputs": [
    {
     "data": {
      "image/png": "[encoded data removed]",
      "text/plain": [
       "<Figure size 2000x800 with 1 Axes>"
      ]
     },
     "metadata": {},
     "output_type": "display_data"
    }
   ],
   "source": [
    "# Plot the distribution of the hour using a countplot\n",
    "plot_countplot('hour', 'Distribution of Hour', 'Hour')"
   ]
  },
  {
   "attachments": {},
   "cell_type": "markdown",
   "metadata": {},
   "source": [
    "> Expanding on the previous observation, it looks that the bike share system is being heavily used at 8 AM and 5 PM. This suggests that the bike share system is being heavily used by individuals who are commuting to and from work or school during peak morning and evening hours.\n",
    "\n",
    "> There is a significant drop in the number of rides starting at 11:00PM to 4:00AM."
   ]
  },
  {
   "attachments": {},
   "cell_type": "markdown",
   "metadata": {},
   "source": [
    "#### 4. When are most trips taken in terms of day of week (`days_of_week`)"
   ]
  },
  {
   "cell_type": "code",
   "execution_count": 140,
   "metadata": {},
   "outputs": [
    {
     "data": {
      "image/png": "[encoded data removed]",
      "text/plain": [
       "<Figure size 2000x800 with 1 Axes>"
      ]
     },
     "metadata": {},
     "output_type": "display_data"
    }
   ],
   "source": [
    "# Count plot of `days_of_week` bike rides\n",
    "plot_countplot('day_of_week', 'Distribution of Rides During Day of Week', 'Day of Week')"
   ]
  },
  {
   "attachments": {},
   "cell_type": "markdown",
   "metadata": {},
   "source": [
    "> After analyzing the Ford GoBike dataset, I found that most rides are taken during the weekdays. Specifically, the majority of rides occur on Mondays, Tuesdays, Wednesdays, Thursdays, and Fridays, with a noticeable drop in rides on the weekends.\n",
    "\n",
    "> This observation suggests that the bike share system is primarily being used for weekday commuting or transportation, potentially for work or school-related purposes. It may also indicate that riders are less likely to use the bike share system for recreational or leisure activities on the weekends, or that there are other transportation options that are more popular on weekends.\n",
    "\n",
    "> However, it's important to note that there may be other factors that could be contributing to this trend, such as weather, time of year, or local events. Further analysis and investigation may be needed to fully understand the reasons behind this pattern."
   ]
  },
  {
   "attachments": {},
   "cell_type": "markdown",
   "metadata": {},
   "source": [
    "#### 5. When are most trips taken in terms of month of the year(`month`)"
   ]
  },
  {
   "cell_type": "code",
   "execution_count": 141,
   "metadata": {},
   "outputs": [
    {
     "data": {
      "image/png": "[encoded data removed]",
      "text/plain": [
       "<Figure size 2000x800 with 1 Axes>"
      ]
     },
     "metadata": {},
     "output_type": "display_data"
    }
   ],
   "source": [
    "# Count plot of distribution of `month_of_year` bike rides\n",
    "plot_countplot('month_of_year', 'Distribution of Rides During Month of Year', 'Month of Year')"
   ]
  },
  {
   "attachments": {},
   "cell_type": "markdown",
   "metadata": {},
   "source": [
    "> After analyzing the Ford GoBike dataset, I found that the months with the highest number of rides are May through October, with the highest number of rides occurring in October. This trend suggests that the bike share system is being used more frequently during the warmer months of the year, potentially due to favorable weather conditions and longer daylight hours.\n",
    "\n",
    "> Additionally, the increase in rides during the summer months may also be due to an increase in tourism and outdoor activities during this time, which could lead to more individuals using the bike share system for transportation and recreation.\n",
    "\n",
    "> It's important to note that this observation is based on the assumptions made from the data and further investigation may be needed to fully understand the reasons behind this pattern. Factors such as local events, promotional campaigns, and user demographics could also play a role in the trends observed. Nonetheless, this finding can be useful for bike share operators to better understand the ridership patterns and plan for capacity and maintenance during peak seasons.\n",
    "\n",
    "> In the next section, we will explore if there is significant difference between user type through out the year. It will help us understand if there are years which are preferrable for the bike-sharing system for a certain user eg subscribers."
   ]
  },
  {
   "cell_type": "code",
   "execution_count": null,
   "metadata": {},
   "outputs": [],
   "source": []
  }
 ],
 "metadata": {
  "language_info": {
   "name": "python"
  },
  "orig_nbformat": 4
 },
 "nbformat": 4,
 "nbformat_minor": 2
}
